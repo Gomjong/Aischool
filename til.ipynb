{
 "cells": [
  {
   "cell_type": "code",
   "execution_count": 75,
   "id": "bbd37c8b",
   "metadata": {
    "collapsed": true
   },
   "outputs": [
    {
     "ename": "IndexError",
     "evalue": "list assignment index out of range",
     "output_type": "error",
     "traceback": [
      "\u001b[1;31m---------------------------------------------------------------------------\u001b[0m",
      "\u001b[1;31mIndexError\u001b[0m                                Traceback (most recent call last)",
      "Cell \u001b[1;32mIn[75], line 9\u001b[0m\n\u001b[0;32m      5\u001b[0m     \u001b[38;5;28;01mreturn\u001b[39;00m answer\n\u001b[0;32m      7\u001b[0m a \u001b[38;5;241m=\u001b[39m [\u001b[38;5;241m1\u001b[39m, \u001b[38;5;241m2\u001b[39m, \u001b[38;5;241m3\u001b[39m, \u001b[38;5;241m4\u001b[39m, \u001b[38;5;241m5\u001b[39m]\n\u001b[1;32m----> 9\u001b[0m solution(a, \u001b[38;5;241m4\u001b[39m)\n",
      "Cell \u001b[1;32mIn[75], line 4\u001b[0m, in \u001b[0;36msolution\u001b[1;34m(num_list, n)\u001b[0m\n\u001b[0;32m      2\u001b[0m answer \u001b[38;5;241m=\u001b[39m []\n\u001b[0;32m      3\u001b[0m \u001b[38;5;28;01mfor\u001b[39;00m i \u001b[38;5;129;01min\u001b[39;00m \u001b[38;5;28mrange\u001b[39m(n):\n\u001b[1;32m----> 4\u001b[0m     answer[i] \u001b[38;5;241m=\u001b[39m num_list[i]\n\u001b[0;32m      5\u001b[0m \u001b[38;5;28;01mreturn\u001b[39;00m answer\n",
      "\u001b[1;31mIndexError\u001b[0m: list assignment index out of range"
     ]
    }
   ],
   "source": [
    "def solution(num_list, n):\n",
    "    answer = []\n",
    "    for i in range(n):\n",
    "        answer[i] = num_list[i]\n",
    "    return answer\n",
    "\n",
    "a = [1, 2, 3, 4, 5]\n",
    "\n",
    "solution(a, 4)"
   ]
  },
  {
   "cell_type": "code",
   "execution_count": 4,
   "id": "6246b310",
   "metadata": {},
   "outputs": [
    {
     "name": "stdout",
     "output_type": "stream",
     "text": [
      "[1, 2, 3, 4]\n"
     ]
    },
    {
     "data": {
      "text/plain": [
       "5"
      ]
     },
     "execution_count": 4,
     "metadata": {},
     "output_type": "execute_result"
    }
   ],
   "source": [
    "def solution(num_list, n):\n",
    "    return num_list[:n]\n",
    "\n",
    "# Test the function\n",
    "a = [1, 2, 3, 4, 5]\n",
    "print(solution(a, 4))  # Output: [1, 2, 3, 4]\n",
    "len(a)"
   ]
  },
  {
   "cell_type": "code",
   "execution_count": 11,
   "id": "eb1d21fe",
   "metadata": {},
   "outputs": [
    {
     "data": {
      "text/plain": [
       "5"
      ]
     },
     "execution_count": 11,
     "metadata": {},
     "output_type": "execute_result"
    }
   ],
   "source": [
    "def solution(num_list):\n",
    "    answer = 0\n",
    "    a = len(num_list)\n",
    "    for i in range(a):\n",
    "        if num_list[i] < 0 :\n",
    "            return i\n",
    "        else:\n",
    "            answer = -1\n",
    "            \n",
    "    return answer\n",
    "\n",
    "num_list = [12, 4, 15, 67, -2, 11, -1, -4]\n",
    "\n",
    "solution(num_list)"
   ]
  },
  {
   "cell_type": "code",
   "execution_count": 14,
   "id": "b7d9dd82",
   "metadata": {},
   "outputs": [
    {
     "data": {
      "text/plain": [
       "[3, 6, 9]"
      ]
     },
     "execution_count": 14,
     "metadata": {},
     "output_type": "execute_result"
    }
   ],
   "source": [
    "def solution(n, k):\n",
    "    answer = []\n",
    "    for i in range(1, n+1):\n",
    "        if i % k == 0:\n",
    "            answer.append(i)\n",
    "\n",
    "    return answer\n",
    "\n",
    "n = 10\n",
    "k = 3\n",
    "\n",
    "solution(n,k)"
   ]
  },
  {
   "cell_type": "code",
   "execution_count": 29,
   "id": "fba8c6af",
   "metadata": {},
   "outputs": [
    {
     "name": "stdout",
     "output_type": "stream",
     "text": [
      "i :  0\n",
      "j :  0\n",
      "j :  1\n",
      "j :  2\n",
      "j :  3\n",
      "j :  4\n",
      "i :  1\n",
      "j :  0\n",
      "i :  2\n",
      "j :  0\n",
      "j :  1\n",
      "j :  2\n",
      "j :  3\n"
     ]
    },
    {
     "data": {
      "text/plain": [
       "[5, 5, 5, 5, 5, 1, 4, 4, 4, 4]"
      ]
     },
     "execution_count": 29,
     "metadata": {},
     "output_type": "execute_result"
    }
   ],
   "source": [
    "def solution(arr):\n",
    "    answer = []\n",
    "    a = len(arr)\n",
    "    for i in range (0,a):\n",
    "        print(\"i : \", i)\n",
    "        for j in range(0, arr[i]):\n",
    "            print(\"j : \", j)\n",
    "            answer.append(arr[i])\n",
    "        \n",
    "    return answer\n",
    "\n",
    "arr = [5, 1, 4]\n",
    "\n",
    "solution(arr)"
   ]
  },
  {
   "cell_type": "code",
   "execution_count": 39,
   "id": "9c859593",
   "metadata": {},
   "outputs": [
    {
     "name": "stdout",
     "output_type": "stream",
     "text": [
      "3 4\n"
     ]
    }
   ],
   "source": [
    "# 프로그래머스 해시 > 폰켓몬\n",
    "\n",
    "def solution(nums):\n",
    "    answer = 0\n",
    "    a = int(len(nums)/2)\n",
    "    b = len(set(nums))\n",
    "    if a <= b:\n",
    "        answer = a\n",
    "    else :\n",
    "        answer = b \n",
    "    \n",
    "    return answer\n",
    "\n",
    "nums = [3,3,3,2,2,4,1]\n",
    "a = int(len(nums)/2)\n",
    "b = len(set(nums))\n",
    "\n",
    "print(a,b)"
   ]
  },
  {
   "cell_type": "code",
   "execution_count": null,
   "id": "545d9288",
   "metadata": {},
   "outputs": [],
   "source": [
    "# 프로그래머스 해시 > 완주하지 못한 선수\n",
    "\n",
    "\n",
    "def solution(participant, completion):\n",
    "    answer = ''\n",
    "    participant.sort()\n",
    "    completion.sort()\n",
    "    for i in range(len(completion)):\n",
    "        if(participant[i] != completion[i]):\n",
    "            return participant[i]\n",
    "\n",
    "   \n",
    "    return participant[len(participant)-1]\n",
    "\n"
   ]
  },
  {
   "cell_type": "code",
   "execution_count": 7,
   "id": "c3b7042e",
   "metadata": {},
   "outputs": [
    {
     "name": "stdout",
     "output_type": "stream",
     "text": [
      "17\n"
     ]
    }
   ],
   "source": [
    "# 프로그래머스 코딩 기초 트레이닝 > 홀수 vs 짝수\n",
    "\n",
    "def solution(num_list):\n",
    "    answer = 0\n",
    "    even = 0\n",
    "    odd = 0\n",
    "    for i in range(len(num_list)):\n",
    "        if i % 2 == 0:\n",
    "            odd += num_list[i]\n",
    "        else:\n",
    "            even += num_list[i]\n",
    "    \n",
    "    \n",
    "    return max(even, odd)\n",
    "\n",
    "num_list = [4, 2, 6, 1, 7, 6]\n",
    "\n",
    "print(solution(num_list))\n",
    "\n",
    "\n",
    "\n",
    "\n",
    "# 쉬운 풀이\n",
    "\n",
    "def solution_2(num_list):\n",
    "    return max(sum(num_list[::2]), sum(num_list[1::2]))"
   ]
  },
  {
   "cell_type": "code",
   "execution_count": 8,
   "id": "1a1bffe8",
   "metadata": {},
   "outputs": [
    {
     "name": "stdout",
     "output_type": "stream",
     "text": [
      "6\n",
      "gwon\n",
      "0\n"
     ]
    }
   ],
   "source": [
    "# 프로그래머스 코딩 기초 트레이닝 > 접미사\n",
    "def solution(my_string, is_suffix):\n",
    "    answer = 0\n",
    "    if my_string[len(is_suffix):] == is_suffix:\n",
    "        answer = 1\n",
    "    else:\n",
    "        answer = 0\n",
    "    print(len(is_suffix))\n",
    "    print(my_string[len(is_suffix):])\n",
    "    return answer\n",
    "my_string = \"kimjongwon\"\n",
    "is_suffix = \"ongwon\"\n",
    "print(solution(my_string, is_suffix))"
   ]
  },
  {
   "cell_type": "code",
   "execution_count": null,
   "id": "cc8442ec",
   "metadata": {},
   "outputs": [],
   "source": [
    "# 프로그래머스 코딩 기초 트레이닝 > 문자열의 앞의 n글자\n",
    "\n",
    "def solution(my_string, n):\n",
    "    answer = my_string[0:n]\n",
    "    \n",
    "    return answer"
   ]
  },
  {
   "cell_type": "code",
   "execution_count": 11,
   "id": "f2bbdbdf",
   "metadata": {},
   "outputs": [
    {
     "name": "stdout",
     "output_type": "stream",
     "text": [
      "grammerS123\n"
     ]
    }
   ],
   "source": [
    "# 프로그래머스 코딩 기초 트레이닝 > 문자열의 뒤의 n글자\n",
    "# 프로그래머스 코딩 기초 트레이닝 > 문자열의 앞의 n글자\n",
    "\n",
    "def solution(my_string, n):\n",
    "    answer = my_string[-n:]\n",
    "    \n",
    "    return answer\n",
    "\n",
    "a = \"ProgrammerS123\"\n",
    "b = 11\n",
    "\n",
    "print(solution(a, b))\n"
   ]
  },
  {
   "cell_type": "code",
   "execution_count": 16,
   "id": "0611e789",
   "metadata": {},
   "outputs": [
    {
     "name": "stdout",
     "output_type": "stream",
     "text": [
      "programmers\n"
     ]
    }
   ],
   "source": [
    "# 프로그래머스 코딩 기초 트레이닝 > 글자 이어 붙여 문자열 만들기\n",
    "\n",
    "def solution(my_string, index_list):\n",
    "    answer = ''\n",
    "    for i in range(len(index_list)):\n",
    "        answer = answer + (my_string[index_list[i]])\n",
    "    return answer\n",
    "\n",
    "my_string = \"cvsgiorszzzmrpaqpe\"\n",
    "index_list = [16, 6, 5, 3, 12, 14, 11, 11, 17, 12, 7]\n",
    "\n",
    "print(solution(my_string, index_list))\n",
    "\n",
    "# 다른풀이 \n",
    "\n",
    "def solution(my_string, index_list):\n",
    "    answer = \"\"\n",
    "    for i in index_list:\n",
    "        answer += my_string[i]\n",
    "    return answer\n",
    "# for i 는 index_list가 끝날때가지 처음부터 끝까지 (굳이 range(len())을 쓰지않음)\n",
    "\n",
    "\n",
    "def solution(my_string, index_list):\n",
    "    return ''.join(map(lambda x: my_string[x], index_list))\n",
    "# 람다함수와 join을 이용하여 한번에 해결 ;;\n",
    "\n"
   ]
  },
  {
   "cell_type": "code",
   "execution_count": 39,
   "id": "997dd440",
   "metadata": {},
   "outputs": [],
   "source": [
    "from collections import deque\n"
   ]
  },
  {
   "cell_type": "code",
   "execution_count": 44,
   "id": "3829a2a9",
   "metadata": {},
   "outputs": [
    {
     "name": "stdout",
     "output_type": "stream",
     "text": [
      "Hello Python\n",
      "[1, 3, 0, 1]\n"
     ]
    }
   ],
   "source": [
    "def solution(arr):\n",
    "    answer = []\n",
    "    temp = arr[0] - 1\n",
    "    for i in arr:\n",
    "        if i != temp:\n",
    "            temp = i\n",
    "            answer.append(i)\n",
    "    print('Hello Python')\n",
    "    return answer\n",
    "\n",
    "arr = [1,1,3,3,0,1,1]\n",
    "\n",
    "\n",
    "\n",
    "print(solution(arr))\n"
   ]
  },
  {
   "cell_type": "code",
   "execution_count": 72,
   "id": "177afbfb",
   "metadata": {},
   "outputs": [
    {
     "name": "stdout",
     "output_type": "stream",
     "text": [
      "17\n",
      "[1, 2, 1, 3, 1]\n"
     ]
    }
   ],
   "source": [
    "def solution(progresses, speeds):\n",
    "    answer = []\n",
    "    days = 0\n",
    "    completed = 0\n",
    "    \n",
    "    while len(progresses) > 0:\n",
    "        if (progresses[0] + days*speeds[0]) >= 100:\n",
    "            progresses.pop(0)\n",
    "            speeds.pop(0)\n",
    "            completed += 1\n",
    "        else:\n",
    "            if completed > 0:\n",
    "                answer.append(completed)\n",
    "                completed = 0\n",
    "            days += 1\n",
    "    print(days)\n",
    "    answer.append(completed)\n",
    "\n",
    "        \n",
    "    \n",
    "    return answer\n",
    "\n",
    "progresses = [93, 30, 55, 71,44,19,21,50]\n",
    "speeds = [21, 30, 15, 7, 6, 9, 12, 3]\n",
    "\n",
    "print(solution(progresses, speeds))"
   ]
  },
  {
   "cell_type": "code",
   "execution_count": 6,
   "id": "dd08f82f",
   "metadata": {},
   "outputs": [
    {
     "name": "stdout",
     "output_type": "stream",
     "text": [
      "5\n",
      "120\n"
     ]
    }
   ],
   "source": [
    "n = int(input())\n",
    "\n",
    "def pactorial(n):\n",
    "    if n == 0:\n",
    "        return 1\n",
    "    else:\n",
    "        return n * pactorial(n-1)\n",
    "    \n",
    "print(pactorial(n))"
   ]
  },
  {
   "cell_type": "code",
   "execution_count": null,
   "id": "d14a0c9b",
   "metadata": {},
   "outputs": [],
   "source": [
    "n = int(input())\n",
    "def fibonacci(n):\n",
    "    if n == 0:  \n",
    "        return 0\n",
    "    elif n == 1:  \n",
    "        return 1\n",
    "    else:\n",
    "        return fibonacci(n - 1) + fibonacci(n - 2)  \n",
    "\n",
    "print(fibonacci(n))  \n"
   ]
  },
  {
   "cell_type": "code",
   "execution_count": 22,
   "id": "adae837f",
   "metadata": {},
   "outputs": [
    {
     "name": "stdout",
     "output_type": "stream",
     "text": [
      "5\n",
      "AAA\n",
      "(1, 2)\n",
      "12\n",
      "(0, 1)\n",
      "12\n",
      "(0, 1)\n",
      "12\n",
      "(0, 1)\n",
      "12\n",
      "(0, 1)\n"
     ]
    }
   ],
   "source": [
    "n = int(input())\n",
    "\n",
    "def recursion(s, l, r):\n",
    "    global cnt \n",
    "    \n",
    "    cnt += 1\n",
    "    if l >= r: return (1, cnt)\n",
    "    elif s[l] != s[r]: return (0, cnt)\n",
    "    else: return recursion(s, l+1, r-1)\n",
    "\n",
    "def isPalindrome(s):\n",
    "    return recursion(s, 0, len(s)-1)\n",
    "\n",
    "for i in range(n):\n",
    "    cnt = 0\n",
    "    s = input()\n",
    "    print(isPalindrome(s))\n",
    "    \n",
    "    "
   ]
  },
  {
   "cell_type": "code",
   "execution_count": null,
   "id": "3e43506f",
   "metadata": {},
   "outputs": [],
   "source": [
    "count = 0 #호출 횟수를 저장 할 변수 선언\n",
    "def recursion(s, l, r):\n",
    "    global count #전역변수 사용을 위해 global 사용\n",
    "    count += 1 #count에 1 더하기\n",
    "    if l >= r: return 1\n",
    "    elif s[l] != s[r]: return 0\n",
    "    else: return recursion(s, l+1, r-1)\n",
    "\n",
    "def isPalindrome(s):\n",
    "    global count #전역변수 사용을 위해 global 사용\n",
    "    count = 0 #count 변수 초기화\n",
    "    return recursion(s, 0, len(s)-1)\n",
    "\n",
    "\n",
    "T = int(input())\n",
    "for i in range(T):\n",
    "    S = input() \n",
    "    print(isPalindrome(S),count)\n"
   ]
  },
  {
   "cell_type": "code",
   "execution_count": 37,
   "id": "7f33366e",
   "metadata": {
    "scrolled": true
   },
   "outputs": [
    {
     "name": "stdout",
     "output_type": "stream",
     "text": [
      "10 500\n",
      "93 181 245 214 315 36 185 138 216 295\n",
      "497\n"
     ]
    }
   ],
   "source": [
    "n, m = map(int, input(). split())\n",
    "cards = list(map(int, input(). split()))\n",
    "\n",
    "blackjack = 0\n",
    "temp = 0\n",
    "for i in range(n-2):\n",
    "    for j in range(i+1, n-1):\n",
    "        for k in range(j+1, n):\n",
    "            temp = cards[i] + cards[j] + cards[k]\n",
    "            if temp > m:\n",
    "                continue\n",
    "            elif temp > blackjack:\n",
    "                blackjack = temp\n",
    "                \n",
    "print(blackjack)\n",
    "    \n",
    "    \n",
    "\n",
    "\n",
    "\n"
   ]
  },
  {
   "cell_type": "markdown",
   "id": "e0f09efe",
   "metadata": {},
   "source": [
    "다시풀기(브루트포스)"
   ]
  },
  {
   "cell_type": "code",
   "execution_count": 57,
   "id": "fe8583ae",
   "metadata": {},
   "outputs": [
    {
     "name": "stdout",
     "output_type": "stream",
     "text": [
      "17\n",
      "13\n"
     ]
    }
   ],
   "source": [
    "def find_smallest_constructor(N):\n",
    "    for M in range(1, N + 1):\n",
    "        decomposition_sum = M\n",
    "        temp = M\n",
    "        \n",
    "        while temp > 0:\n",
    "            decomposition_sum += temp % 10\n",
    "            temp = temp // 10\n",
    "        \n",
    "        if decomposition_sum == N:\n",
    "            return M\n",
    "    return 0\n",
    "N = int(input())\n",
    "result = find_smallest_constructor(N)\n",
    "print(result)"
   ]
  },
  {
   "cell_type": "code",
   "execution_count": 63,
   "id": "8bac8477",
   "metadata": {},
   "outputs": [
    {
     "name": "stdout",
     "output_type": "stream",
     "text": [
      "1 3 -1 4 1 7\n",
      "2 -1\n"
     ]
    }
   ],
   "source": [
    "a, b, c, d, e, f = map(int, input().split())\n",
    "x = 0\n",
    "y = 0\n",
    "\n",
    "for x in range(-999, 1000):\n",
    "    for y in range(-999, 1000):\n",
    "        if a*x + b*y == c and d*x + e*y == f:\n",
    "            print(x, y)"
   ]
  },
  {
   "cell_type": "code",
   "execution_count": 77,
   "id": "27fed075",
   "metadata": {},
   "outputs": [
    {
     "name": "stdout",
     "output_type": "stream",
     "text": [
      "500\n",
      "166699\n"
     ]
    }
   ],
   "source": [
    "n = int(input())\n",
    "\n",
    "cnt = 0\n",
    "i = 0\n",
    "while True:\n",
    "    i += 1\n",
    "    if \"666\" in str(i):\n",
    "        cnt += 1\n",
    "    if cnt == n:\n",
    "        print(i)\n",
    "        break\n",
    "    "
   ]
  },
  {
   "cell_type": "code",
   "execution_count": null,
   "id": "a7c9068c",
   "metadata": {},
   "outputs": [],
   "source": [
    "def solution(numbers, target):\n",
    "    answer = 0\n",
    "    \n",
    "    return answer\n",
    "\n",
    "numbers = [4, 1, 2, 1]\n",
    "target = 4\n",
    "\n",
    "print(solution(numbers, target))"
   ]
  },
  {
   "cell_type": "code",
   "execution_count": 4,
   "id": "38278f0d",
   "metadata": {},
   "outputs": [
    {
     "name": "stdout",
     "output_type": "stream",
     "text": [
      "1\n",
      "3\n",
      "2\n",
      "5\n",
      "6\n",
      "3\n",
      "2\n"
     ]
    }
   ],
   "source": [
    "# 백준 2587 대표값\n",
    "num_list = []\n",
    "\n",
    "for _ in range(5):\n",
    "    num_list.append(int(input()))\n",
    "num_list.sort()\n",
    "print(sum(num_list)//5)\n",
    "print(num_list[2])"
   ]
  },
  {
   "cell_type": "code",
   "execution_count": 8,
   "id": "e3103efb",
   "metadata": {},
   "outputs": [
    {
     "name": "stdout",
     "output_type": "stream",
     "text": [
      "5 2\n",
      "100 76 85 93 98\n",
      "98\n"
     ]
    }
   ],
   "source": [
    "# 백준 25305 커트라인\n",
    "n, k = map(int, input().split())\n",
    "score_list = list(map(int, input().split()))\n",
    "score_list.sort(reverse=True)\n",
    "print(score_list[k-1])"
   ]
  },
  {
   "cell_type": "code",
   "execution_count": 12,
   "id": "faaf2342",
   "metadata": {},
   "outputs": [
    {
     "name": "stdout",
     "output_type": "stream",
     "text": [
      "2143\n",
      "4321"
     ]
    }
   ],
   "source": [
    "# 백준 1427 소트인사이드\n",
    "score_list = list(map(int, input()))\n",
    "\n",
    "score_list.sort(reverse=True)\n",
    "for i in range(len(score_list)):\n",
    "    print(score_list[i], end = \"\")"
   ]
  },
  {
   "cell_type": "code",
   "execution_count": 16,
   "id": "16cfe8d5",
   "metadata": {},
   "outputs": [
    {
     "name": "stdout",
     "output_type": "stream",
     "text": [
      "5\n",
      "3 4\n",
      "[[3, 4]]\n",
      "1 1\n",
      "[[3, 4], [1, 1]]\n",
      "1 -1\n",
      "[[3, 4], [1, 1], [1, -1]]\n",
      "3 3\n",
      "[[3, 4], [1, 1], [1, -1], [3, 3]]\n",
      "4 4\n",
      "[[3, 4], [1, 1], [1, -1], [3, 3], [4, 4]]\n",
      "1 -1\n",
      "1 1\n",
      "3 3\n",
      "3 4\n",
      "4 4\n"
     ]
    }
   ],
   "source": [
    "# 백준 11650 좌표 정렬하기 !!!!! 다시 풀기 \n",
    "n = int(input())\n",
    "so = []\n",
    "for i in range(n):\n",
    "    so.append(list(map(int, input().split())))\n",
    "    print(so)\n",
    "so.sort(key=lambda x: (x[0], x[1]))\n",
    "\n",
    "for i in so:\n",
    "    print(i[0], i[1])\n",
    "    \n",
    "    \n"
   ]
  },
  {
   "cell_type": "code",
   "execution_count": 25,
   "id": "61a0a28d",
   "metadata": {},
   "outputs": [
    {
     "name": "stdout",
     "output_type": "stream",
     "text": [
      "5\n",
      "0 4\n",
      "1 2\n",
      "1 -1\n",
      "2 2\n",
      "3 3\n",
      "[[0, 4], [1, 2], [1, -1], [2, 2], [3, 3]]\n",
      "1 -1\n",
      "1 2\n",
      "2 2\n",
      "3 3\n",
      "0 4\n"
     ]
    }
   ],
   "source": [
    "# 백준 좌표 정렬하기 2\n",
    "import sys\n",
    "\n",
    "n = int(sys.stdin.readline())\n",
    "cd = []\n",
    "for _ in range(n):\n",
    "    cd.append(list(map(int, sys.stdin.readline().split())))\n",
    "\n",
    "cd.sort(key=lambda y : (y[1], y[0]))\n",
    "for i in cd:\n",
    "    print(i[0], i[1])"
   ]
  },
  {
   "cell_type": "code",
   "execution_count": 14,
   "id": "080a0129",
   "metadata": {},
   "outputs": [
    {
     "name": "stdout",
     "output_type": "stream",
     "text": [
      "5\n",
      "aba\n",
      "cd\n",
      "aba\n",
      "a\n",
      "b\n",
      "a\n",
      "b\n",
      "cd\n",
      "aba\n"
     ]
    }
   ],
   "source": [
    "# 백준 단어 정렬\n",
    "\n",
    "n = int(input())\n",
    "w_list = []\n",
    "for _ in range(n):\n",
    "    w_list.append(input())\n",
    "w_list = list(set(w_list))\n",
    "w_list_sorted = sorted(w_list)\n",
    "w_list_sorted.sort(key = lambda x : len(x))\n",
    "\n",
    "for i in range(len(w_list_sorted)):\n",
    "    print(w_list_sorted[i])"
   ]
  },
  {
   "cell_type": "code",
   "execution_count": null,
   "id": "1b729923",
   "metadata": {},
   "outputs": [],
   "source": [
    "# 프로그래머스 > 정렬 > K번째 수\n",
    "\n",
    "def solution(array, commands):\n",
    "    answer = []\n",
    "    \n",
    "    for i in range(len(commands)):\n",
    "        start, end, k = commands[i]\n",
    "        sorted_array = sorted(array[start-1:end])\n",
    "        answer.append(sorted_array[k-1])\n",
    "        \n",
    "    return answer"
   ]
  },
  {
   "cell_type": "code",
   "execution_count": 27,
   "id": "f79faa5c",
   "metadata": {},
   "outputs": [
    {
     "name": "stdout",
     "output_type": "stream",
     "text": [
      "2 5 3\n",
      "[5, 2, 6, 3]\n",
      "5\n"
     ]
    }
   ],
   "source": [
    "array = [1,5,2,6,3,7,4]\n",
    "commands= [[2,5,3], [4,4,1],[1,7,3]]\n",
    "start, end, k = commands[0] \n",
    "print(start, end, k)\n",
    "print(array[start-1:end])\n",
    "sorted_array = sorted(array[start-1:end])\n",
    "\n",
    "print(sorted_array[k-1])"
   ]
  },
  {
   "cell_type": "code",
   "execution_count": 38,
   "id": "5e660a2f",
   "metadata": {},
   "outputs": [
    {
     "name": "stdout",
     "output_type": "stream",
     "text": [
      "[6, 10]\n",
      "[6, 10, 2]\n",
      "<class 'int'>\n"
     ]
    }
   ],
   "source": [
    "# 프로그래머스 > 정렬 > 가장큰 수 (다시풀기)\n",
    "# 풀기전 모르는것 정수 이어붙이기 result = int(str(a)+str(b))\n",
    "\n",
    "number = [6, 10, 2]\n",
    "bubble_sort = [number[0]]\n",
    "result = 0\n",
    "for i in range(len(number)):\n",
    "    for j in range(1, len(number)):\n",
    "        number"
   ]
  },
  {
   "cell_type": "code",
   "execution_count": 39,
   "id": "42d356e0",
   "metadata": {},
   "outputs": [
    {
     "name": "stdout",
     "output_type": "stream",
     "text": [
      "[1, 3, 4, 4, 5]\n"
     ]
    }
   ],
   "source": [
    "from functools import cmp_to_key\n",
    "\n",
    "def compare(x, y):\n",
    "    if x > y:\n",
    "        return 1 # y가 x 오른쪽에 위치시키게 한다.\n",
    "    else:\n",
    "        return -1 # x가 y 오른쪽에 위치시키게 한다.\n",
    "    \n",
    "a = [1,4,3,5,4]\n",
    "\n",
    "print(sorted(a, key = cmp_to_key(compare)))"
   ]
  },
  {
   "cell_type": "code",
   "execution_count": null,
   "id": "4326ef47",
   "metadata": {},
   "outputs": [],
   "source": [
    "from functools import cmp_to_key\n",
    "\n",
    "\n",
    "# x는 왼쪽 y는 오른쪽\n",
    "def compare(x, y):\n",
    "    # 6 10 > 10 6\n",
    "    if x + y > y + x:\n",
    "        return -1\n",
    "    elif x + y < y + x:\n",
    "        return 1\n",
    "    else:\n",
    "        return 0\n",
    "\n",
    "def solution(numbers):\n",
    "    # numbers를 문자열로 변환\n",
    "    str_numbers = list(map(str, numbers))\n",
    "    # custom compare function을 이용해 정렬\n",
    "    sorted_numbers = sorted(str_numbers, key=cmp_to_key(compare))\n",
    "    # 정렬된 숫자들을 이어 붙임\n",
    "    largest_number = ''.join(sorted_numbers)\n",
    "    # '0000'과 같은 경우를 방지하기 위해 int로 변환 후 문자열로 다시 변환\n",
    "    return str(int(largest_number))\n",
    "\n",
    "# 예시 테스트\n",
    "print(solution([6, 10, 2]))  # \"6210\"\n",
    "print(solution([3, 30, 34, 5, 9]))  # \"9534330\""
   ]
  },
  {
   "cell_type": "code",
   "execution_count": null,
   "id": "facd8455",
   "metadata": {},
   "outputs": [],
   "source": [
    "d"
   ]
  },
  {
   "cell_type": "markdown",
   "id": "6809ebb4",
   "metadata": {},
   "source": [
    "### 해설\n"
   ]
  },
  {
   "cell_type": "code",
   "execution_count": 46,
   "id": "99a823ae",
   "metadata": {},
   "outputs": [
    {
     "name": "stdout",
     "output_type": "stream",
     "text": [
      "3\n"
     ]
    }
   ],
   "source": [
    "h = 0\n",
    "\n",
    "l = len(citations)\n",
    "citations.sort()\n",
    "for i in range(l):\n",
    "    if l-i >= citations[i]:\n",
    "        h = citations[i]\n",
    "print(h)\n",
    "    "
   ]
  },
  {
   "cell_type": "code",
   "execution_count": null,
   "id": "a9265664",
   "metadata": {},
   "outputs": [],
   "source": [
    "0 0 0 0 0\n",
    "\n",
    "h 0\n",
    "\n",
    "\n",
    "0 1 2 5 9\n",
    "\n",
    "3 3 3 3 5\n",
    "h = \n",
    "\n",
    "def solution(citations):\n",
    "    citations.sort() \n",
    "    h_index = 0\n",
    "    l = len(citations)\n",
    "    for i in range(l):\n",
    "        if  l-i >= citations[i] :\n",
    "            h_index = l-i\n",
    "            bre\n",
    "            \n",
    "    return h_index"
   ]
  },
  {
   "cell_type": "code",
   "execution_count": null,
   "id": "769299a8",
   "metadata": {},
   "outputs": [],
   "source": [
    "def solution(citations):\n",
    "    citations = sorted(citations)\n",
    "    l = len(citations)\n",
    "    for i in range(l):\n",
    "        if citations[i] >= l-i:\n",
    "            return l-i\n",
    "    return 0"
   ]
  },
  {
   "cell_type": "code",
   "execution_count": 47,
   "id": "86a85771",
   "metadata": {
    "scrolled": true
   },
   "outputs": [
    {
     "ename": "NameError",
     "evalue": "name 'List' is not defined",
     "output_type": "error",
     "traceback": [
      "\u001b[1;31m---------------------------------------------------------------------------\u001b[0m",
      "\u001b[1;31mNameError\u001b[0m                                 Traceback (most recent call last)",
      "Cell \u001b[1;32mIn[47], line 1\u001b[0m\n\u001b[1;32m----> 1\u001b[0m \u001b[38;5;28;01mclass\u001b[39;00m \u001b[38;5;21;01mSolution\u001b[39;00m:\n\u001b[0;32m      2\u001b[0m     \u001b[38;5;28;01mdef\u001b[39;00m \u001b[38;5;21mkClosest\u001b[39m(\u001b[38;5;28mself\u001b[39m, points: List[List[\u001b[38;5;28mint\u001b[39m]], k: \u001b[38;5;28mint\u001b[39m) \u001b[38;5;241m-\u001b[39m\u001b[38;5;241m>\u001b[39m List[List[\u001b[38;5;28mint\u001b[39m]]:\n\u001b[0;32m      3\u001b[0m         heap \u001b[38;5;241m=\u001b[39m []\n",
      "Cell \u001b[1;32mIn[47], line 2\u001b[0m, in \u001b[0;36mSolution\u001b[1;34m()\u001b[0m\n\u001b[0;32m      1\u001b[0m \u001b[38;5;28;01mclass\u001b[39;00m \u001b[38;5;21;01mSolution\u001b[39;00m:\n\u001b[1;32m----> 2\u001b[0m     \u001b[38;5;28;01mdef\u001b[39;00m \u001b[38;5;21mkClosest\u001b[39m(\u001b[38;5;28mself\u001b[39m, points: List[List[\u001b[38;5;28mint\u001b[39m]], k: \u001b[38;5;28mint\u001b[39m) \u001b[38;5;241m-\u001b[39m\u001b[38;5;241m>\u001b[39m List[List[\u001b[38;5;28mint\u001b[39m]]:\n\u001b[0;32m      3\u001b[0m         heap \u001b[38;5;241m=\u001b[39m []\n\u001b[0;32m      4\u001b[0m         \u001b[38;5;28;01mfor\u001b[39;00m (x,y) \u001b[38;5;129;01min\u001b[39;00m points:\n",
      "\u001b[1;31mNameError\u001b[0m: name 'List' is not defined"
     ]
    }
   ],
   "source": [
    "class Solution:\n",
    "    def kClosest(self, points: List[List[int]], k: int) -> List[List[int]]:\n",
    "        heap = []\n",
    "        for (x,y) in points:\n",
    "            dist = x ** 2 + y ** 2\n",
    "            heapq.heappush(heap, (dist, x, y))\n",
    "        \n",
    "        result = []\n",
    "\n",
    "        for _ in range(k):\n",
    "            (_, x, y) = heapq.heappop(heap) # 앞에 원래는 dist\n",
    "            result.append((x,y))\n",
    "        \n",
    "        return result"
   ]
  },
  {
   "cell_type": "code",
   "execution_count": 49,
   "id": "369c963f",
   "metadata": {},
   "outputs": [
    {
     "name": "stdout",
     "output_type": "stream",
     "text": [
      "0\n",
      "0\n",
      "-1\n"
     ]
    }
   ],
   "source": [
    "def solution(n, control):\n",
    "    n = 0\n",
    "    control = list(control)\n",
    "    for i in range(0, len(control)):\n",
    "        if control[i] == \"w\":\n",
    "            n += 1\n",
    "        elif control[i] == \"s\":\n",
    "            n -= 1\n",
    "        elif control[i] == \"d\":\n",
    "            n += 10\n",
    "        elif control[i] == \"a\":\n",
    "            n -=10\n",
    "    return n"
   ]
  },
  {
   "cell_type": "code",
   "execution_count": null,
   "id": "36002903",
   "metadata": {},
   "outputs": [],
   "source": [
    "n = int(input())\n",
    "x_list = list(map(int, input().split()))\n",
    "result = []\n",
    "for i in range(n):\n",
    "    for j in range(n-i-1):\n",
    "        \n",
    "        \n",
    "        "
   ]
  },
  {
   "cell_type": "code",
   "execution_count": 54,
   "id": "25bb1e55",
   "metadata": {},
   "outputs": [
    {
     "name": "stdout",
     "output_type": "stream",
     "text": [
      "[1, 2, 3]\n",
      "1 2 3\n"
     ]
    }
   ],
   "source": [
    "n = [1, 2, 3]\n",
    "print(n)\n",
    "print(*n)"
   ]
  },
  {
   "cell_type": "code",
   "execution_count": 60,
   "id": "0707f54a",
   "metadata": {},
   "outputs": [
    {
     "name": "stdout",
     "output_type": "stream",
     "text": [
      "6\n",
      "1000 999 1000 999 1000 999\n",
      "[1000, 999]\n",
      "x[i], x_set[j] 1000 0 1000 0\n",
      "x[i], x_set[j] 1000 0 999 1\n",
      "x[i], x_set[j] 999 1 999 1\n",
      "x[i], x_set[j] 1000 2 1000 0\n",
      "x[i], x_set[j] 1000 2 999 1\n",
      "x[i], x_set[j] 999 3 999 1\n",
      "x[i], x_set[j] 1000 4 1000 0\n",
      "x[i], x_set[j] 1000 4 999 1\n",
      "x[i], x_set[j] 999 5 999 1\n",
      "1 0 1 0 1 0\n"
     ]
    }
   ],
   "source": [
    "n = int(input())\n",
    "x = list(map(int, input().split()))\n",
    "x_set = list(set(x))\n",
    "print(x_set)\n",
    "result = []\n",
    "\n",
    "for i in range(len(x)):\n",
    "    count = 0\n",
    "    for j in range(len(x_set)):\n",
    "        if x[i] >= x_set[j]:\n",
    "            print(\"x[i], x_set[j]\", x[i], i, x_set[j], j)\n",
    "            count += 1\n",
    "        \n",
    "    result.append(count-1)\n",
    "\n",
    "print(*result)"
   ]
  },
  {
   "cell_type": "code",
   "execution_count": null,
   "id": "aa46188e",
   "metadata": {},
   "outputs": [],
   "source": [
    "def compress_coordinates(n, coordinates):\n",
    "    # 중복 제거 후 정렬된 리스트 생성\n",
    "    sorted_coords = sorted(set(coordinates))\n",
    "    \n",
    "    # 좌표 압축을 위한 사전 생성\n",
    "    coord_dict = {coord: i for i, coord in enumerate(sorted_coords)}\n",
    "    \n",
    "    # 원래 좌표를 압축된 값으로 변환\n",
    "    compressed = [coord_dict[coord] for coord in coordinates]\n",
    "    \n",
    "    return compressed\n",
    "\n",
    "# 입력\n",
    "n = int(input().strip())\n",
    "coordinates = list(map(int, input().strip().split()))\n",
    "\n",
    "# 좌표 압축\n",
    "result = compress_coordinates(n, coordinates)\n",
    "\n",
    "# 결과 출력\n",
    "print(' '.join(map(str, result)))"
   ]
  },
  {
   "cell_type": "code",
   "execution_count": null,
   "id": "3008e3c4",
   "metadata": {},
   "outputs": [
    {
     "name": "stdout",
     "output_type": "stream",
     "text": [
      "hello\n",
      " \n",
      " \n",
      " \n",
      " \n",
      " \n"
     ]
    }
   ],
   "source": [
    "while 1:\n",
    "    if input() == \"\":\n",
    "        break\n",
    "    else:\n",
    "        print(input())"
   ]
  },
  {
   "cell_type": "code",
   "execution_count": null,
   "id": "e803584e",
   "metadata": {},
   "outputs": [],
   "source": []
  }
 ],
 "metadata": {
  "kernelspec": {
   "display_name": "Python 3 (ipykernel)",
   "language": "python",
   "name": "python3"
  },
  "language_info": {
   "codemirror_mode": {
    "name": "ipython",
    "version": 3
   },
   "file_extension": ".py",
   "mimetype": "text/x-python",
   "name": "python",
   "nbconvert_exporter": "python",
   "pygments_lexer": "ipython3",
   "version": "3.11.7"
  }
 },
 "nbformat": 4,
 "nbformat_minor": 5
}
