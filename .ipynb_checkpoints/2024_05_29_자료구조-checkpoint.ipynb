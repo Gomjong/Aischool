{
 "cells": [
  {
   "cell_type": "code",
   "execution_count": 58,
   "id": "757b2fbd",
   "metadata": {},
   "outputs": [],
   "source": [
    "from IPython.display import Image"
   ]
  },
  {
   "cell_type": "markdown",
   "id": "640d1e70",
   "metadata": {},
   "source": [
    "## 복습 문제\n",
    "- 1. 함수\n",
    "- 2. 예외처리\n",
    "- 3. 모듈\n",
    "- 4. 클래스"
   ]
  },
  {
   "cell_type": "code",
   "execution_count": 10,
   "id": "6db27c50",
   "metadata": {},
   "outputs": [],
   "source": [
    "import import_ipynb\n",
    "import calculator"
   ]
  },
  {
   "cell_type": "code",
   "execution_count": 11,
   "id": "0d3cd7aa",
   "metadata": {
    "scrolled": true
   },
   "outputs": [
    {
     "name": "stdout",
     "output_type": "stream",
     "text": [
      "hello, Alice!\n",
      "None\n",
      "Hi, Bob!\n",
      "None\n",
      "Hey, Charlie!!\n",
      "None\n"
     ]
    }
   ],
   "source": [
    "def greet(name, greeting = \"hello\", punctuation = \"!\"):\n",
    "    print(f\"{greeting}, {name}{punctuation}\")\n",
    "\n",
    "\n",
    "print(greet(\"Alice\")) # 출력: \"Hello, Alice!\"\n",
    "print(greet(\"Bob\", greeting=\"Hi\")) # 출력: \"Hi, Bob!\"\n",
    "print(greet(\"Charlie\", \"Hey\", punctuation=\"!!\")) # 출력: \"Hey, Charlie!!\"\n"
   ]
  },
  {
   "cell_type": "code",
   "execution_count": 12,
   "id": "63e069ff",
   "metadata": {},
   "outputs": [
    {
     "name": "stdout",
     "output_type": "stream",
     "text": [
      "5.0\n",
      "Error: Division by zero is not allowed.\n",
      "None\n"
     ]
    }
   ],
   "source": [
    "def divide(a, b):\n",
    "    if b == 0:\n",
    "        print(\"Error: Division by zero is not allowed.\")\n",
    "    else:\n",
    "        return a/b\n",
    "    \n",
    "print(divide(10, 2)) # 출력: 5.0\n",
    "print(divide(10, 0)) # 출력: \"Error: Division by zero is not allowed.\"\n"
   ]
  },
  {
   "cell_type": "code",
   "execution_count": 15,
   "id": "77dad1f6",
   "metadata": {},
   "outputs": [
    {
     "name": "stdout",
     "output_type": "stream",
     "text": [
      "8\n",
      "15\n"
     ]
    }
   ],
   "source": [
    "# 호출 부분\n",
    "from calculator import add, multiply\n",
    "\n",
    "print(add(3, 5)) # 출력: 8\n",
    "print(multiply(3, 5)) # 출력: 15\n"
   ]
  },
  {
   "cell_type": "code",
   "execution_count": 16,
   "id": "d6664e2c",
   "metadata": {},
   "outputs": [
    {
     "name": "stdout",
     "output_type": "stream",
     "text": [
      "렉스(이)가 멍멍!\n",
      "위스커스(이)가 냐옹!\n",
      "제네릭(이)가 어떤 소리를 냅니다\n"
     ]
    }
   ],
   "source": [
    "\n",
    "\n",
    "\n",
    "# 호출 부분\n",
    "class Animal:\n",
    "    def __init__(self, name):\n",
    "        self.name = name\n",
    "    \n",
    "    def speak(self):\n",
    "        return \"어떤 소리를 냅니다\"\n",
    "        \n",
    "    \n",
    "class Dog(Animal):\n",
    "    def speak(self):\n",
    "        return \"멍멍!\"\n",
    "\n",
    "\n",
    "class Cat(Animal):\n",
    "    def speak(self):\n",
    "        return \"냐옹!\"\n",
    "\n",
    "\n",
    "animals = [Dog(\"렉스\"), Cat(\"위스커스\"), Animal(\"제네릭\")]\n",
    "for animal in animals:\n",
    "    print(f\"{animal.name}(이)가 {animal.speak()}\")\n",
    "# 출력:\n",
    "# 렉스(이)가 멍멍!\n",
    "# 위스커스(이)가 야옹!\n",
    "# 제너릭(이)가 어떤 소리를 냅니다"
   ]
  },
  {
   "cell_type": "markdown",
   "id": "9e634c73",
   "metadata": {},
   "source": [
    "## 시간 복잡도 - 빅 오(Big-O) 표기법"
   ]
  },
  {
   "cell_type": "markdown",
   "id": "c247f0cc",
   "metadata": {},
   "source": [
    "### O(1) 상수 시간 복잡도\n",
    "- 입력 크기와 상관없이 일정한 시간이 걸리는 알고리즘"
   ]
  },
  {
   "cell_type": "code",
   "execution_count": 17,
   "id": "8f9bfd4e",
   "metadata": {},
   "outputs": [],
   "source": [
    "# 예시: 배열의 첫 번째 원소를 출력하는 함수\n",
    "def print_first_element(arr):\n",
    "    print(arr[0])"
   ]
  },
  {
   "cell_type": "code",
   "execution_count": 24,
   "id": "5e42c49c",
   "metadata": {
    "scrolled": true
   },
   "outputs": [
    {
     "name": "stdout",
     "output_type": "stream",
     "text": [
      "Execution time: 0.001172780990600586 seconds\n"
     ]
    }
   ],
   "source": [
    "import time\n",
    "\n",
    "def is_even(n):\n",
    "    return n % 2 == 0\n",
    "\n",
    "n = 10000000\n",
    "start = time.time()\n",
    "is_even(n)\n",
    "end = time.time()\n",
    "print(f\"Execution time: {end - start} seconds\")"
   ]
  },
  {
   "cell_type": "markdown",
   "id": "0deb3777",
   "metadata": {},
   "source": [
    "### O(N) 선형 시간 복잡도\n",
    "- 입력 크기에 비례하여 실행 시간이 증가하는 알고리즘입니다."
   ]
  },
  {
   "cell_type": "markdown",
   "id": "69693b81",
   "metadata": {},
   "source": [
    "##### sum_array 함수는 배열의 모든 요소를 한 번씩 순회하며 합계를 계산합니다.\n",
    "##### 배열의 크기가 N일 때, 순회하는 데 걸리는 시간은 N에 비례하므로 시간 복잡도는 O(N)입니다."
   ]
  },
  {
   "cell_type": "code",
   "execution_count": 26,
   "id": "9dda0734",
   "metadata": {},
   "outputs": [
    {
     "name": "stdout",
     "output_type": "stream",
     "text": [
      "Execution time: 0.027890920639038086 seconds\n"
     ]
    }
   ],
   "source": [
    "def sum_array(arr):\n",
    "    total = 0\n",
    "    for num in arr:\n",
    "        total += num\n",
    "    return total\n",
    "\n",
    "import time\n",
    "\n",
    "arr = list(range(1000000))\n",
    "start = time.time()\n",
    "sum_array(arr)\n",
    "end = time.time()\n",
    "print(f\"Execution time: {end - start} seconds\")"
   ]
  },
  {
   "cell_type": "code",
   "execution_count": 28,
   "id": "c5d90d40",
   "metadata": {},
   "outputs": [
    {
     "name": "stdout",
     "output_type": "stream",
     "text": [
      "Execution time: 0.01702713966369629 seconds\n"
     ]
    }
   ],
   "source": [
    "def selection_sort(arr):\n",
    "    n = len(arr)\n",
    "    for i in range(n):\n",
    "        min_idx = i\n",
    "        for j in range(i+1, n):\n",
    "            if arr[j] < arr[min_idx]:\n",
    "                min_idx = j\n",
    "        arr[i], arr[min_idx] = arr[min_idx], arr[i]\n",
    "    return arr\n",
    "\n",
    "arr = list(range(1000, 0, -1))\n",
    "start = time.time()\n",
    "selection_sort(arr)\n",
    "end = time.time()\n",
    "print(f\"Execution time: {end - start} seconds\")\n"
   ]
  },
  {
   "cell_type": "markdown",
   "id": "ac742f8f",
   "metadata": {},
   "source": [
    "## 리스트 (파이썬 알고리즘 인터뷰, 121p)\n",
    "\n",
    "### 리스트의 주요 특징\n",
    "\n",
    "- 1. 순서가 있는 데이터 구조 (Ordered) : 리스트는 항목들이 입력된 순서대로 유지\n",
    "- 2. 가변성 (Mutable) : 리스트는 생성된 이후에도 항목을 추가, 제거, 수정 가능\n",
    "- 3. 중복 허용 (Allow Duplicates) : 리스트는 중복된 값을 허용\n",
    "- 4. 다양한 데이터 타입 저장 가능 (Heterogeneous) : 리스트는 문자열, 숫자, 다른 리스트 등 다양한 데이터 타입을 저장 가능"
   ]
  },
  {
   "cell_type": "markdown",
   "id": "55f31a62",
   "metadata": {},
   "source": [
    "### 리스트 생성\n",
    "- 리스트는 대괄호를 사용하여 생성할 수 있다."
   ]
  },
  {
   "cell_type": "code",
   "execution_count": 30,
   "id": "22351ad4",
   "metadata": {},
   "outputs": [
    {
     "name": "stdout",
     "output_type": "stream",
     "text": [
      "[1, 'hello', 3.14, True, [1, 2, 3]]\n"
     ]
    }
   ],
   "source": [
    "# 빈 리스트 생성\n",
    "empty_list = []\n",
    "\n",
    "# 여러 데이터 타입을 포함한 리스트 생성\n",
    "mixed_list = [1, \"hello\", 3.14, True, [1, 2, 3]]\n",
    "print(mixed_list)"
   ]
  },
  {
   "cell_type": "markdown",
   "id": "3664aec3",
   "metadata": {},
   "source": [
    "### 리스트의 기본 연산\n"
   ]
  },
  {
   "cell_type": "markdown",
   "id": "ba0a2d2d",
   "metadata": {},
   "source": [
    "##### 1. 항목 접근 (Indexing):"
   ]
  },
  {
   "cell_type": "code",
   "execution_count": 44,
   "id": "0afdf1e3",
   "metadata": {},
   "outputs": [
    {
     "name": "stdout",
     "output_type": "stream",
     "text": [
      "10\n",
      "40\n"
     ]
    }
   ],
   "source": [
    "numbers = [10, 20, 30, 40, 50]\n",
    "print(numbers[0])  # 10\n",
    "print(numbers[-2]) # 40 (역순 인덱스)\n"
   ]
  },
  {
   "cell_type": "markdown",
   "id": "c9c054ea",
   "metadata": {},
   "source": [
    "##### 2. 항목 변경 (Modifying):"
   ]
  },
  {
   "cell_type": "code",
   "execution_count": 45,
   "id": "43fbd885",
   "metadata": {},
   "outputs": [
    {
     "name": "stdout",
     "output_type": "stream",
     "text": [
      "[100, 20, 30, 40, 50]\n"
     ]
    }
   ],
   "source": [
    "numbers[0] = 100\n",
    "print(numbers)  \n",
    "# numbers [0] 10 -> 100"
   ]
  },
  {
   "cell_type": "markdown",
   "id": "ac05edc8",
   "metadata": {},
   "source": [
    "##### 3. 항목 추가 (Appending):"
   ]
  },
  {
   "cell_type": "code",
   "execution_count": 46,
   "id": "fd3efdf1",
   "metadata": {},
   "outputs": [
    {
     "name": "stdout",
     "output_type": "stream",
     "text": [
      "[100, 20, 30, 40, 50, 60]\n"
     ]
    }
   ],
   "source": [
    "numbers.append(60)\n",
    "print(numbers)  # [100, 20, 30, 40, 50, 60]\n"
   ]
  },
  {
   "cell_type": "markdown",
   "id": "ccf210a3",
   "metadata": {},
   "source": [
    "##### 4. 항목 삽입 (Inserting):"
   ]
  },
  {
   "cell_type": "code",
   "execution_count": 47,
   "id": "71e0cb25",
   "metadata": {},
   "outputs": [
    {
     "name": "stdout",
     "output_type": "stream",
     "text": [
      "[100, 20, 25, 30, 40, 50, 60]\n"
     ]
    }
   ],
   "source": [
    "numbers.insert(2, 25)\n",
    "print(numbers)  # [100, 20, 25, 30, 40, 50, 60]\n"
   ]
  },
  {
   "cell_type": "markdown",
   "id": "c3137d2a",
   "metadata": {},
   "source": [
    "##### 5. 항목 제거 (Removing):"
   ]
  },
  {
   "cell_type": "code",
   "execution_count": 48,
   "id": "9afb712d",
   "metadata": {},
   "outputs": [
    {
     "name": "stdout",
     "output_type": "stream",
     "text": [
      "[100, 20, 25, 40, 50, 60]\n"
     ]
    }
   ],
   "source": [
    "numbers.remove(30)\n",
    "print(numbers)  # [100, 20, 25, 40, 50, 60]\n"
   ]
  },
  {
   "cell_type": "markdown",
   "id": "743f9245",
   "metadata": {},
   "source": [
    "##### 6. 항목 팝 (Pop):"
   ]
  },
  {
   "cell_type": "code",
   "execution_count": 49,
   "id": "95f18720",
   "metadata": {},
   "outputs": [
    {
     "name": "stdout",
     "output_type": "stream",
     "text": [
      "60\n",
      "[100, 20, 25, 40, 50]\n"
     ]
    }
   ],
   "source": [
    "last_item = numbers.pop()\n",
    "print(last_item)  # 60\n",
    "print(numbers)    # [100, 20, 25, 40, 50]\n"
   ]
  },
  {
   "cell_type": "markdown",
   "id": "674d0380",
   "metadata": {},
   "source": [
    "##### 7. 항목 포함 여부 확인 (Checking Membership):"
   ]
  },
  {
   "cell_type": "code",
   "execution_count": 50,
   "id": "70d03415",
   "metadata": {},
   "outputs": [
    {
     "name": "stdout",
     "output_type": "stream",
     "text": [
      "True\n",
      "False\n"
     ]
    }
   ],
   "source": [
    "print(20 in numbers)  # True\n",
    "print(70 in numbers)  # False\n"
   ]
  },
  {
   "cell_type": "markdown",
   "id": "85f87455",
   "metadata": {},
   "source": [
    "### 리스트의 주요 메소드"
   ]
  },
  {
   "cell_type": "markdown",
   "id": "5aece180",
   "metadata": {},
   "source": [
    "##### 슬라이싱"
   ]
  },
  {
   "cell_type": "code",
   "execution_count": 61,
   "id": "6bcb3528",
   "metadata": {},
   "outputs": [
    {
     "name": "stdout",
     "output_type": "stream",
     "text": [
      "[100, 80, 70, 50, 40, 25, 20]\n",
      "[100, 80, 70, 50, 40]\n",
      "[70, 50, 40]\n",
      "[100, 80]\n",
      "[25, 20]\n",
      "[100, 70, 40, 20]\n",
      "[100, 80, 70]\n"
     ]
    }
   ],
   "source": [
    "print(numbers)\n",
    "print(numbers[:5]) # [0:5:1]\n",
    "print(numbers[2:5]) # [2:5:1]\n",
    "print(numbers[:-5]) # [0:-5:1]\n",
    "print(numbers[5:]) # [5:len(n):1]\n",
    "print(numbers[::2]) # [0:len(n):1]\n",
    "print(numbers[:3]) # [0:len(n):1]\n"
   ]
  },
  {
   "cell_type": "markdown",
   "id": "a17805e7",
   "metadata": {},
   "source": [
    "##### 1. extend(): 리스트에 다른 리스트나 반복 가능한 객체의 모든 항목을 추가합니다."
   ]
  },
  {
   "cell_type": "code",
   "execution_count": 51,
   "id": "87a56ed4",
   "metadata": {},
   "outputs": [
    {
     "name": "stdout",
     "output_type": "stream",
     "text": [
      "[100, 20, 25, 40, 50, 70, 80]\n"
     ]
    }
   ],
   "source": [
    "numbers.extend([70, 80])\n",
    "print(numbers)  # [100, 20, 25, 40, 50, 70, 80]\n"
   ]
  },
  {
   "cell_type": "markdown",
   "id": "2cfcd592",
   "metadata": {},
   "source": [
    "##### 2. sort(): 리스트를 정렬합니다."
   ]
  },
  {
   "cell_type": "code",
   "execution_count": 52,
   "id": "018ca5bc",
   "metadata": {},
   "outputs": [
    {
     "name": "stdout",
     "output_type": "stream",
     "text": [
      "[20, 25, 40, 50, 70, 80, 100]\n"
     ]
    }
   ],
   "source": [
    "numbers.sort()\n",
    "print(numbers)  # [20, 25, 40, 50, 70, 80, 100]\n"
   ]
  },
  {
   "cell_type": "markdown",
   "id": "6527ad7c",
   "metadata": {},
   "source": [
    "##### 3. reverse(): 리스트의 항목 순서를 반대로 뒤집습니다."
   ]
  },
  {
   "cell_type": "code",
   "execution_count": 53,
   "id": "792e0d6a",
   "metadata": {},
   "outputs": [
    {
     "name": "stdout",
     "output_type": "stream",
     "text": [
      "[100, 80, 70, 50, 40, 25, 20]\n"
     ]
    }
   ],
   "source": [
    "numbers.reverse()\n",
    "print(numbers)  # [100, 80, 70, 50, 40, 25, 20]\n"
   ]
  },
  {
   "cell_type": "markdown",
   "id": "5c8484db",
   "metadata": {},
   "source": [
    "##### 4. index(): 특정 항목의 첫 번째 인덱스를 반환합니다."
   ]
  },
  {
   "cell_type": "code",
   "execution_count": 54,
   "id": "9d6b35b9",
   "metadata": {},
   "outputs": [
    {
     "name": "stdout",
     "output_type": "stream",
     "text": [
      "3\n"
     ]
    }
   ],
   "source": [
    "index = numbers.index(50)\n",
    "print(index)  # 3\n"
   ]
  },
  {
   "cell_type": "markdown",
   "id": "f42a1f25",
   "metadata": {},
   "source": [
    "##### 5. count(): 리스트 내에서 특정 항목이 몇 번 등장하는지 반환합니다."
   ]
  },
  {
   "cell_type": "code",
   "execution_count": 55,
   "id": "d10207ba",
   "metadata": {},
   "outputs": [
    {
     "name": "stdout",
     "output_type": "stream",
     "text": [
      "1\n"
     ]
    }
   ],
   "source": [
    "count = numbers.count(25)\n",
    "print(count)  # 1\n"
   ]
  },
  {
   "cell_type": "markdown",
   "id": "52b5ef9b",
   "metadata": {},
   "source": [
    "##### 리스트 활용 예제\n",
    "\n",
    "- 리스트는 데이터를 저장하고 조작하는 데 매우 유용하며, 파이썬의 다양한 내장 함수 및 메소드와 함께 사용할 수 있습니다. 예를 들어, 리스트 컴프리헨션을 사용하면 리스트를 간결하고 효율적으로 생성할 수 있습니다."
   ]
  },
  {
   "cell_type": "code",
   "execution_count": 56,
   "id": "4b470bad",
   "metadata": {},
   "outputs": [
    {
     "name": "stdout",
     "output_type": "stream",
     "text": [
      "[0, 1, 4, 9, 16, 25, 36, 49, 64, 81]\n"
     ]
    }
   ],
   "source": [
    "# 리스트 컴프리헨션 예제\n",
    "squares = [x**2 for x in range(10)]\n",
    "print(squares)  # [0, 1, 4, 9, 16, 25, 36, 49, 64, 81]\n"
   ]
  },
  {
   "cell_type": "markdown",
   "id": "7686a430",
   "metadata": {},
   "source": [
    "![nn](list_pic.png)"
   ]
  },
  {
   "cell_type": "markdown",
   "id": "a3e03b30",
   "metadata": {},
   "source": [
    "## 딕셔너리 (파이썬 알고리즘 인터뷰, p128)\n",
    "### 딕셔너리의 주요 특징\n",
    "\n",
    "- 1. 키-값 쌍 (Key-Value Pairs): 딕셔너리는 각 항목이 고유한 키와 그에 대응하는 값으로 구성됩니다.\n",
    "- 2. 비순차적 (Unordered): 딕셔너리는 항목들이 입력된 순서를 유지하지 않습니다. (파이썬 3.7부터는 입력된 순서를 유지합니다.)\n",
    "- 3. 가변성 (Mutable): 딕셔너리는 생성된 이후에도 키-값 쌍을 추가, 제거, 수정할 수 있습니다.\n",
    "- 4. 키는 유일해야 함 (Unique Keys): 딕셔너리의 키는 중복될 수 없습니다. 값은 중복될 수 있습니다.\n"
   ]
  },
  {
   "cell_type": "markdown",
   "id": "78171474",
   "metadata": {},
   "source": [
    "### 딕셔너리 생성"
   ]
  },
  {
   "cell_type": "markdown",
   "id": "545bcdc2",
   "metadata": {},
   "source": [
    "##### 딕셔너리의 주요 특징\n",
    "\n",
    "1. 딕셔너리는 중괄호를 사용하여 생성할 수 있습니다.\n",
    "2. 키-값 쌍 (Key-Value Pairs): 딕셔너리는 각 항목이 고유한 키와 그에 대응하는 값으로 구성됩니다.\n",
    "3. 비순차적 (Unordered): 딕셔너리는 항목들이 입력된 순서를 유지하지 않습니다. (파이썬 3.7부터는 입력된 순서를 유지합니다.)\n",
    "4. 키는 유일해야 함 (Unique Keys): 딕셔너리의 키는 중복될 수 없습니다. 값은 중복될 수 있습니다."
   ]
  },
  {
   "cell_type": "code",
   "execution_count": 73,
   "id": "22561d1c",
   "metadata": {},
   "outputs": [],
   "source": [
    "# 빈 딕셔너리 생성\n",
    "empty_dict = {}\n",
    "\n",
    "# 키-값 쌍을 포함한 딕셔너리 생성\n",
    "person = {\n",
    "    \"name\": \"John\",\n",
    "    \"age\": 30,\n",
    "    \"city\": \"New York\"\n",
    "}\n"
   ]
  },
  {
   "cell_type": "markdown",
   "id": "011a9f49",
   "metadata": {},
   "source": [
    "### 딕셔너리의 기본 연산"
   ]
  },
  {
   "cell_type": "markdown",
   "id": "1d827089",
   "metadata": {},
   "source": [
    "##### 1. 항목 접근 (Accessing Items):"
   ]
  },
  {
   "cell_type": "code",
   "execution_count": 74,
   "id": "578f347c",
   "metadata": {},
   "outputs": [
    {
     "name": "stdout",
     "output_type": "stream",
     "text": [
      "John\n",
      "30\n"
     ]
    }
   ],
   "source": [
    "print(person[\"name\"])  # \"John\"\n",
    "print(person.get(\"age\"))  # 30\n"
   ]
  },
  {
   "cell_type": "markdown",
   "id": "99a81081",
   "metadata": {},
   "source": [
    "##### 2. 항목 추가 및 수정 (Adding and Modifying Items):"
   ]
  },
  {
   "cell_type": "code",
   "execution_count": 75,
   "id": "0af4724e",
   "metadata": {},
   "outputs": [
    {
     "name": "stdout",
     "output_type": "stream",
     "text": [
      "{'name': 'John', 'age': 31, 'city': 'New York', 'email': 'john@example.com'}\n"
     ]
    }
   ],
   "source": [
    "person[\"email\"] = \"john@example.com\"  # 항목 추가\n",
    "person[\"age\"] = 31  # 항목 수정\n",
    "print(person)\n"
   ]
  },
  {
   "cell_type": "markdown",
   "id": "87f830d7",
   "metadata": {},
   "source": [
    "##### 3. 항목 제거 (Removing Items):"
   ]
  },
  {
   "cell_type": "code",
   "execution_count": 76,
   "id": "573dbb75",
   "metadata": {},
   "outputs": [
    {
     "name": "stdout",
     "output_type": "stream",
     "text": [
      "{'name': 'John', 'age': 31, 'email': 'john@example.com'}\n",
      "john@example.com\n",
      "{'name': 'John', 'age': 31}\n",
      "{}\n"
     ]
    }
   ],
   "source": [
    "del person[\"city\"]\n",
    "print(person)\n",
    "\n",
    "email = person.pop(\"email\")\n",
    "print(email)  # \"john@example.com\"\n",
    "print(person)\n",
    "\n",
    "person.clear()\n",
    "print(person)  # {}\n"
   ]
  },
  {
   "cell_type": "markdown",
   "id": "a1a39409",
   "metadata": {},
   "source": [
    "### 딕셔너리의 주요 메소드"
   ]
  },
  {
   "cell_type": "markdown",
   "id": "a97d5e43",
   "metadata": {},
   "source": [
    "##### 1. keys(): 딕셔너리의 모든 키를 반환합니다."
   ]
  },
  {
   "cell_type": "code",
   "execution_count": 78,
   "id": "2afefbeb",
   "metadata": {},
   "outputs": [
    {
     "name": "stdout",
     "output_type": "stream",
     "text": [
      "dict_keys(['name', 'age', 'city'])\n"
     ]
    }
   ],
   "source": [
    "person = {\n",
    "    \"name\": \"John\",\n",
    "    \"age\": 30,\n",
    "    \"city\": \"New York\"\n",
    "}\n",
    "\n",
    "keys = person.keys()\n",
    "print(keys)  # dict_keys(['name', 'age'])\n"
   ]
  },
  {
   "cell_type": "markdown",
   "id": "b74264ec",
   "metadata": {},
   "source": [
    "##### 2. values(): 딕셔너리의 모든 값을 반환합니다."
   ]
  },
  {
   "cell_type": "code",
   "execution_count": 79,
   "id": "0c9285eb",
   "metadata": {},
   "outputs": [
    {
     "name": "stdout",
     "output_type": "stream",
     "text": [
      "dict_values(['John', 30, 'New York'])\n"
     ]
    }
   ],
   "source": [
    "values = person.values()\n",
    "print(values)  # dict_values(['John', 31])\n"
   ]
  },
  {
   "cell_type": "markdown",
   "id": "efc4305c",
   "metadata": {},
   "source": [
    "##### 3. items(): 딕셔너리의 모든 키-값 쌍을 반환합니다."
   ]
  },
  {
   "cell_type": "code",
   "execution_count": 80,
   "id": "bf9e7124",
   "metadata": {},
   "outputs": [
    {
     "name": "stdout",
     "output_type": "stream",
     "text": [
      "dict_items([('name', 'John'), ('age', 30), ('city', 'New York')])\n"
     ]
    }
   ],
   "source": [
    "items = person.items()\n",
    "print(items)  # dict_items([('name', 'John'), ('age', 31)])\n"
   ]
  },
  {
   "cell_type": "markdown",
   "id": "b4defcce",
   "metadata": {},
   "source": [
    "##### 4. update(): 딕셔너리의 항목을 업데이트합니다."
   ]
  },
  {
   "cell_type": "code",
   "execution_count": 81,
   "id": "b422da2e",
   "metadata": {},
   "outputs": [
    {
     "name": "stdout",
     "output_type": "stream",
     "text": [
      "{'name': 'John', 'age': 32, 'city': 'Boston'}\n"
     ]
    }
   ],
   "source": [
    "person.update({\"age\": 32, \"city\": \"Boston\"})\n",
    "print(person)\n"
   ]
  },
  {
   "cell_type": "markdown",
   "id": "c4a638b7",
   "metadata": {},
   "source": [
    "### 딕셔너리 활용 예제\n",
    "\n",
    "- 딕셔너리는 데이터 검색, 추가, 수정에 매우 효율적이며, 다양한 용도로 사용할 수 있습니다. 예를 들어, 특정 조건을 만족하는 항목만을 선택하거나, 데이터를 그룹화하는 데 사용할 수 있습니다."
   ]
  },
  {
   "cell_type": "code",
   "execution_count": 82,
   "id": "8774f676",
   "metadata": {},
   "outputs": [
    {
     "name": "stdout",
     "output_type": "stream",
     "text": [
      "{'Alice': 85, 'Charlie': 90}\n"
     ]
    }
   ],
   "source": [
    "# 예제: 조건을 만족하는 항목 선택\n",
    "students = {\n",
    "    \"Alice\": 85,\n",
    "    \"Bob\": 75,\n",
    "    \"Charlie\": 90\n",
    "}\n",
    "\n",
    "high_scores = {k: v for k, v in students.items() if v > 80} # 딕셔너리 컨프리헨션\n",
    "print(high_scores)  # {'Alice': 85, 'Charlie': 90}\n"
   ]
  },
  {
   "cell_type": "markdown",
   "id": "1f9567f9",
   "metadata": {},
   "source": [
    "#####"
   ]
  },
  {
   "cell_type": "markdown",
   "id": "91cd1d6b",
   "metadata": {},
   "source": [
    "#####"
   ]
  },
  {
   "cell_type": "markdown",
   "id": "ef630c50",
   "metadata": {},
   "source": [
    "#####"
   ]
  },
  {
   "cell_type": "markdown",
   "id": "52c15fd2",
   "metadata": {},
   "source": [
    "##### 집합"
   ]
  },
  {
   "cell_type": "code",
   "execution_count": 96,
   "id": "cdf25fc7",
   "metadata": {},
   "outputs": [
    {
     "name": "stdout",
     "output_type": "stream",
     "text": [
      "{'apple', 'banana', 'cherry'}\n",
      "<class 'set'>\n"
     ]
    }
   ],
   "source": [
    "my_set = {\"apple\", 'banana', \"cherry\", \"cherry\"}\n",
    "\n",
    "print(my_set)\n",
    "print(type(my_set))"
   ]
  },
  {
   "cell_type": "code",
   "execution_count": null,
   "id": "614f02f8",
   "metadata": {},
   "outputs": [],
   "source": []
  },
  {
   "cell_type": "code",
   "execution_count": null,
   "id": "276caf18",
   "metadata": {},
   "outputs": [],
   "source": []
  }
 ],
 "metadata": {
  "kernelspec": {
   "display_name": "Python 3 (ipykernel)",
   "language": "python",
   "name": "python3"
  },
  "language_info": {
   "codemirror_mode": {
    "name": "ipython",
    "version": 3
   },
   "file_extension": ".py",
   "mimetype": "text/x-python",
   "name": "python",
   "nbconvert_exporter": "python",
   "pygments_lexer": "ipython3",
   "version": "3.11.7"
  }
 },
 "nbformat": 4,
 "nbformat_minor": 5
}
