{
 "cells": [
  {
   "cell_type": "markdown",
   "id": "55685237",
   "metadata": {},
   "source": [
    "## 1주차 복습 문제\n",
    "\n",
    "### 1.\n",
    "\n",
    "다음과 같은 출력을 내기 위해 `describe_person` 함수를 완성하세요. 이 함수는 사람의 이름과 나이를 출력하며, 나이가 제공되지 않을 경우 기본값으로 0을 사용합니다."
   ]
  },
  {
   "cell_type": "code",
   "execution_count": 3,
   "id": "b5af0ee5",
   "metadata": {},
   "outputs": [
    {
     "name": "stdout",
     "output_type": "stream",
     "text": [
      "Alice is 30 years old.\n",
      "None\n",
      "Bob is 0 years old.\n",
      "None\n"
     ]
    }
   ],
   "source": [
    "def describe_person(name, age=0):\n",
    "    # 여기에 코드를 작성하세요'\n",
    "    print(f\"{name} is {age} years old.\")\n",
    "    \n",
    "\n",
    "print(describe_person(\"Alice\", 30))  # 출력: Alice is 30 years old.\n",
    "print(describe_person(\"Bob\"))        # 출력: Bob is 0 years old."
   ]
  },
  {
   "cell_type": "markdown",
   "id": "1a07e1d8",
   "metadata": {},
   "source": [
    "### 2.\n",
    "\n",
    "다음과 같은 출력을 내기 위해 `divide` 함수를 완성하세요. 이 함수는 두 숫자를 나누며, 두 번째 숫자가 0일 경우 \"Cannot divide by zero\"를 출력합니다."
   ]
  },
  {
   "cell_type": "code",
   "execution_count": 5,
   "id": "65c6a715",
   "metadata": {},
   "outputs": [
    {
     "name": "stdout",
     "output_type": "stream",
     "text": [
      "5.0\n",
      "Cannot divide by zero\n",
      "None\n"
     ]
    }
   ],
   "source": [
    "def divide(a, b):\n",
    "    # 여기에 코드를 작성하세요\n",
    "    if b == 0:\n",
    "        print(\"Cannot divide by zero\")\n",
    "    else:\n",
    "        return a/b\n",
    "\n",
    "result = divide(10, 2)\n",
    "print(result)  # 출력: 5.0\n",
    "\n",
    "result = divide(10, 0)\n",
    "print(result)  # 출력: Cannot divide by zero"
   ]
  },
  {
   "cell_type": "markdown",
   "id": "751148dc",
   "metadata": {},
   "source": [
    "### 3.\n",
    "\n",
    "다음과 같은 출력을 내기 위해 `divide` 함수를 완성하세요. 이 함수는 두 숫자를 나누며, 두 번째 숫자가 0일 경우 예외를 처리하여 \"Cannot divide by zero\"를 출력합니다."
   ]
  },
  {
   "cell_type": "code",
   "execution_count": 9,
   "id": "bfb596de",
   "metadata": {},
   "outputs": [
    {
     "name": "stdout",
     "output_type": "stream",
     "text": [
      "5.0\n",
      "Cannot divide by zero\n",
      "None\n"
     ]
    }
   ],
   "source": [
    "def divide(a, b):\n",
    "    try:\n",
    "        # 여기에 코드를 작성하세요\n",
    "        return a/b\n",
    "    except ZeroDivisionError:\n",
    "        # 여기에 코드를 작성하세요\n",
    "        print(\"Cannot divide by zero\")\n",
    "\n",
    "result = divide(10, 2)\n",
    "print(result)  # 출력: 5.0\n",
    "\n",
    "result = divide(10, 0)\n",
    "print(result)  # 출력: Cannot divide by zero"
   ]
  },
  {
   "cell_type": "markdown",
   "id": "b2e771cf",
   "metadata": {},
   "source": [
    "### 4.\n",
    "\n",
    "다음은 `math` 모듈의 `sqrt` 함수에 대한 설명입니다. 설명을 읽고 적절하게 `sqrt` 함수를 사용하여 문제를 해결하세요.\n",
    "\n",
    "**함수 설명:**\n",
    "\n",
    "- `math.sqrt(x)`는 x의 제곱근을 반환합니다.\n",
    "\n",
    "다음과 같은 출력을 내기 위해 `calculate_square_root` 함수를 완성하세요."
   ]
  },
  {
   "cell_type": "code",
   "execution_count": 11,
   "id": "3c5a1b97",
   "metadata": {},
   "outputs": [
    {
     "name": "stdout",
     "output_type": "stream",
     "text": [
      "3.0\n",
      "4.0\n"
     ]
    }
   ],
   "source": [
    "import math\n",
    "\n",
    "def calculate_square_root(number):\n",
    "    # 여기에 코드를 작성하세요\n",
    "    return math.sqrt(number)\n",
    "\n",
    "print(calculate_square_root(9))   # 출력: 3.0\n",
    "print(calculate_square_root(16))  # 출력: 4.0"
   ]
  },
  {
   "cell_type": "markdown",
   "id": "f6f75f63",
   "metadata": {},
   "source": [
    "### 5.\n",
    "\n",
    "다음은 `datetime` 모듈의 `datetime.now` 함수에 대한 설명입니다. 설명을 읽고 적절하게 `datetime.now` 함수를 사용하여 문제를 해결하세요.\n",
    "\n",
    "**함수 설명:**\n",
    "\n",
    "- `datetime.datetime.now()`는 현재 날짜와 시간을 반환합니다.\n",
    "\n",
    "다음과 같은 출력을 내기 위해 `get_current_datetime` 함수를 완성하세요."
   ]
  },
  {
   "cell_type": "code",
   "execution_count": 13,
   "id": "d62794da",
   "metadata": {},
   "outputs": [
    {
     "name": "stdout",
     "output_type": "stream",
     "text": [
      "2024-06-03 09:14:54.102365\n"
     ]
    }
   ],
   "source": [
    "import datetime\n",
    "\n",
    "def get_current_datetime():\n",
    "    # 여기에 코드를 작성하세요\n",
    "    return datetime.datetime.now()\n",
    "\n",
    "print(get_current_datetime())  # 출력: 현재 날짜와 시간이 출력됩니다 (예: 2024-06-03 10:20:30)"
   ]
  },
  {
   "cell_type": "markdown",
   "id": "67c435d9",
   "metadata": {},
   "source": [
    "### 6.\n",
    "\n",
    "다음은 `random` 모듈의 `randint` 함수에 대한 설명입니다. 설명을 읽고 적절하게 `randint` 함수를 사용하여 문제를 해결하세요.\n",
    "\n",
    "**함수 설명:**\n",
    "\n",
    "- `random.randint(a, b)`는 a와 b 사이의 랜덤 정수를 반환합니다 (a와 b를 포함).\n",
    "\n",
    "다음과 같은 출력을 내기 위해 `generate_lotto_numbers` 함수를 완성하세요. 로또 번호는 1부터 45 사이의 중복되지 않는 6개의 숫자여야 합니다."
   ]
  },
  {
   "cell_type": "code",
   "execution_count": 15,
   "id": "39416067",
   "metadata": {},
   "outputs": [
    {
     "name": "stdout",
     "output_type": "stream",
     "text": [
      "[42, 1, 33, 16, 15, 34]\n"
     ]
    }
   ],
   "source": [
    "import random\n",
    "\n",
    "def generate_lotto_numbers():\n",
    "    # 여기에 코드를 작성하세요\n",
    "    lotto = []\n",
    "    for _ in range(6):\n",
    "        lotto.append(random.randint(1,45))\n",
    "    return lotto\n",
    "        \n",
    "\n",
    "print(generate_lotto_numbers())  # 출력: 1부터 45 사이의 중복되지 않는 6개의 숫자가 리스트로 출력됩니다 (예: [3, 12, 25, 33, 37, 41])\n"
   ]
  },
  {
   "cell_type": "markdown",
   "id": "b5fecdae",
   "metadata": {},
   "source": [
    "### 7.\n",
    "\n",
    "다음은 학생들이 클래스를 구현하고, 생성자를 통해 필드를 주입하며, 원하는 메서드를 구현할 수 있는지 평가할 수 있는 문제입니다. 이 문제는 `self` 키워드를 제대로 이해하고 사용하는지를 평가합니다. 또한, 만든 클래스로 여러 개의 객체를 생성하는 것을 출력 결과로 보여줍니다.\n",
    "\n",
    "### 문제: 클래스 구현하기\n",
    "\n",
    "다음은 `Book` 클래스를 구현하기 위한 요구사항입니다. 설명을 읽고 적절하게 클래스를 구현하세요.\n",
    "\n",
    "**요구사항:**\n",
    "\n",
    "- `Book` 클래스는 `title`, `author`, `year`라는 세 개의 필드를 가집니다.\n",
    "- 생성자 `__init__`를 통해 필드 값을 주입합니다.\n",
    "- `description` 메서드를 구현하여 책의 제목, 저자, 출판 연도를 출력합니다.\n",
    "- `is_classic` 메서드를 구현하여 책이 출판된 지 50년 이상 되었는지를 판단합니다. 50년 이상 되었으면 `True`, 아니면 `False`를 반환합니다.\n",
    "\n",
    "다음과 같은 출력을 내기 위해 `Book` 클래스를 완성하세요"
   ]
  },
  {
   "cell_type": "code",
   "execution_count": 23,
   "id": "57332100",
   "metadata": {},
   "outputs": [
    {
     "name": "stdout",
     "output_type": "stream",
     "text": [
      "1984 by George Orwell, published in 1949\n",
      "The Great Gatsby by F. Scott Fitzgerald, published in 1925\n",
      "To Kill a Mockingbird by Harper Lee, published in 2000\n",
      "True\n",
      "True\n",
      "False\n"
     ]
    }
   ],
   "source": [
    "class Book:\n",
    "    def __init__(self, title, author, year):\n",
    "        # 여기에 코드를 작성하세요\n",
    "        self.title = title\n",
    "        self.author = author\n",
    "        self.year = year\n",
    "\n",
    "    def description(self):\n",
    "        # 여기에 코드를 작성하세요\n",
    "        return f\"{self.title} by {self.author}, published in {self.year}\"\n",
    "\n",
    "    def is_classic(self):\n",
    "        current_year = 2024\n",
    "        return (2024 - self.year) >= 50\n",
    "        # 여기에 코드를 작성하세요\n",
    "\n",
    "# 객체 생성 및 사용 예시\n",
    "book1 = Book(\"1984\", \"George Orwell\", 1949)\n",
    "book2 = Book(\"The Great Gatsby\", \"F. Scott Fitzgerald\", 1925)\n",
    "book3 = Book(\"To Kill a Mockingbird\", \"Harper Lee\", 2000)\n",
    "\n",
    "print(book1.description())  # 출력: 1984 by George Orwell, published in 1949\n",
    "print(book2.description())  # 출력: The Great Gatsby by F. Scott Fitzgerald, published in 1925\n",
    "print(book3.description())  # 출력: To Kill a Mockingbird by Harper Lee, published in 1960\n",
    "\n",
    "print(book1.is_classic())  # 출력: True\n",
    "print(book2.is_classic())  # 출력: True\n",
    "print(book3.is_classic())  # 출력: False\n"
   ]
  },
  {
   "cell_type": "markdown",
   "id": "dcc03a44",
   "metadata": {},
   "source": [
    "### 8.\n",
    "\n",
    "다음 코드의 시간 복잡도를 분석하고 이유를 설명하세요.\n",
    "\n",
    "**질문:**\n",
    "\n",
    "1. 이 코드의 시간 복잡도는 무엇이며, 그 이유는 무엇인가요?\n",
    "2. 이 코드가 입력 배열 `arr`의 길이가 두 배로 증가할 때, 실행 시간은 어떻게 변하나요?"
   ]
  },
  {
   "cell_type": "code",
   "execution_count": 24,
   "id": "56a7c3e9",
   "metadata": {},
   "outputs": [],
   "source": [
    "def print_pairs(arr):\n",
    "    for i in range(len(arr)):\n",
    "        for j in range(len(arr)):\n",
    "            print(arr[i], arr[j])\n",
    "\n",
    "# 예시\n",
    "arr = [1, 2, 3]"
   ]
  },
  {
   "cell_type": "markdown",
   "id": "23b277b7",
   "metadata": {},
   "source": [
    "정답 : O(N^2) 그 이유는 i가 arr의 길이만큼 반복되며 i가 +1될 때 마다 j가 또 arr의 길이만큼 실행이 되기 때문에\n",
    "실행시간은 4배 늘어난다"
   ]
  },
  {
   "cell_type": "markdown",
   "id": "3a0b8dde",
   "metadata": {},
   "source": [
    "### 9.\n",
    "\n",
    "다음 코드의 시간 복잡도를 분석하고 이유를 설명하세요.\n",
    "\n",
    " **질문:**\n",
    "\n",
    "1. `find_target_in_lists` 함수의 시간 복잡도는 무엇이며, 그 이유는 무엇인가요?\n",
    "2. `if target in lst:` 구문의 시간 복잡도와 이를 호출하는 for문이 결합되면 전체 시간 복잡도는 어떻게 계산되나요?"
   ]
  },
  {
   "cell_type": "code",
   "execution_count": 25,
   "id": "796e23a3",
   "metadata": {},
   "outputs": [
    {
     "name": "stdout",
     "output_type": "stream",
     "text": [
      "Found 5 in list [4, 5, 6]\n"
     ]
    }
   ],
   "source": [
    "def find_target_in_lists(lists, target):\n",
    "    for lst in lists:\n",
    "        if target in lst:\n",
    "            print(f\"Found {target} in list {lst}\")\n",
    "            return\n",
    "    print(f\"{target} not found in any list\")\n",
    "\n",
    "# 예시\n",
    "lists = [[1, 2, 3], [4, 5, 6], [7, 8, 9]]\n",
    "find_target_in_lists(lists, 5)\n"
   ]
  },
  {
   "cell_type": "markdown",
   "id": "0885dcdd",
   "metadata": {},
   "source": [
    "O(N^2)"
   ]
  },
  {
   "cell_type": "markdown",
   "id": "6d938c05",
   "metadata": {},
   "source": [
    "### 10.\n",
    "\n",
    "다음 코드의 시간 복잡도를 분석하고 이유를 설명하세요.\n",
    "\n",
    "**질문:**\n",
    "\n",
    "1. 이 코드의 시간 복잡도는 무엇이며, 그 이유는 무엇인가요?\n",
    "2. 이 함수가 입력 배열 `arr`의 길이에 관계없이 일정한 시간을 유지하는 이유는 무엇인가요?"
   ]
  },
  {
   "cell_type": "code",
   "execution_count": 26,
   "id": "8ae39711",
   "metadata": {},
   "outputs": [
    {
     "name": "stdout",
     "output_type": "stream",
     "text": [
      "1\n"
     ]
    }
   ],
   "source": [
    "def get_first_element(arr):\n",
    "    return arr[0]\n",
    "\n",
    "# 예시\n",
    "arr = [1, 2, 3, 4, 5]\n",
    "print(get_first_element(arr))"
   ]
  },
  {
   "cell_type": "markdown",
   "id": "f65a91ea",
   "metadata": {},
   "source": [
    "배열의 길이가 뒤에 얼마나 길던 상관없이 arr[0]만 바로 return하기 때문에 실행수는 1 고정"
   ]
  },
  {
   "cell_type": "markdown",
   "id": "ae61b0a7",
   "metadata": {},
   "source": [
    "### 11.\n",
    "\n",
    "다음 코드에서 `list_operations` 함수를 완성하세요."
   ]
  },
  {
   "cell_type": "code",
   "execution_count": 28,
   "id": "44c12025",
   "metadata": {},
   "outputs": [
    {
     "name": "stdout",
     "output_type": "stream",
     "text": [
      "(15, 5, 1, 5)\n"
     ]
    }
   ],
   "source": [
    "def list_operations(my_list):\n",
    "    # 여기에 코드를 작성하세요\n",
    "    sum_of_elements = sum(my_list)\n",
    "    max_element = max(my_list)\n",
    "    min_element = min(my_list)\n",
    "    length_of_list = len(my_list)\n",
    "    return sum_of_elements, max_element, min_element, length_of_list\n",
    "\n",
    "example_list = [1, 2, 3, 4, 5]\n",
    "result = list_operations(example_list)\n",
    "print(result)  # 출력: (15, 5, 1, 5)"
   ]
  },
  {
   "cell_type": "markdown",
   "id": "05ed646c",
   "metadata": {},
   "source": [
    "### 12.\n",
    "\n",
    "다음 코드에서 `list_methods` 함수를 완성하세요."
   ]
  },
  {
   "cell_type": "code",
   "execution_count": 30,
   "id": "626bcf34",
   "metadata": {},
   "outputs": [
    {
     "name": "stdout",
     "output_type": "stream",
     "text": [
      "[1, 2, 3, 4, 5]\n"
     ]
    }
   ],
   "source": [
    "def list_methods(my_list):\n",
    "    # 1. 3을 리스트의 맨 끝에 추가하세요\n",
    "    my_list.append(3)\n",
    "    # 2. 5를 리스트의 첫 번째 위치에 추가하세요\n",
    "    my_list.insert(0, 5)\n",
    "    # 3. 리스트의 첫 번째 요소를 제거하세요\n",
    "    my_list.pop(0)\n",
    "    # 4. 리스트를 오름차순으로 정렬하세요\n",
    "    my_list.sort()\n",
    "\n",
    "example_list = [4, 2, 1, 5]\n",
    "list_methods(example_list)\n",
    "print(example_list)  # 출력: [1, 2, 3, 4, 5]\n"
   ]
  },
  {
   "cell_type": "markdown",
   "id": "987bd5e7",
   "metadata": {},
   "source": [
    "### 13.\n",
    "\n",
    "다음 코드에서 `add_entry` 함수를 완성하세요."
   ]
  },
  {
   "cell_type": "code",
   "execution_count": 32,
   "id": "8afeba38",
   "metadata": {},
   "outputs": [
    {
     "name": "stdout",
     "output_type": "stream",
     "text": [
      "{'a': 1, 'b': 2, 'c': 3}\n",
      "{'a': 1, 'b': 2, 'c': 3, 'd': 4}\n"
     ]
    }
   ],
   "source": [
    "def add_entry(my_dict, key, value):\n",
    "    # 여기에 코드를 작성하세요\n",
    "    my_dict[key] = value\n",
    "\n",
    "original_dict = {'a': 1, 'b': 2}\n",
    "add_entry(original_dict, 'c', 3)\n",
    "print(original_dict)  # 출력: {'a': 1, 'b': 2, 'c': 3}\n",
    "\n",
    "add_entry(original_dict, 'd', 4)\n",
    "print(original_dict)  # 출력: {'a': 1, 'b': 2, 'c': 3, 'd': 4}\n"
   ]
  },
  {
   "cell_type": "markdown",
   "id": "4830976c",
   "metadata": {},
   "source": [
    "### 14.\n",
    "\n",
    "다음 코드에서 `check_duplicate_keys` 함수를 완성하세요."
   ]
  },
  {
   "cell_type": "code",
   "execution_count": 35,
   "id": "0f4e0ee1",
   "metadata": {},
   "outputs": [
    {
     "name": "stdout",
     "output_type": "stream",
     "text": [
      "Key b is duplicated\n"
     ]
    }
   ],
   "source": [
    "def check_duplicate_keys(dict1, dict2):\n",
    "    # 여기에 코드를 작성하세요\n",
    "    for key in dict1:\n",
    "        if key in dict2:\n",
    "            print(f\"Key {key} is duplicated\")\n",
    "\n",
    "dict1 = {'a': 1, 'b': 2}\n",
    "dict2 = {'b': 3, 'c': 4}\n",
    "check_duplicate_keys(dict1, dict2)\n",
    "# 출력:\n",
    "# Key b is duplicated"
   ]
  },
  {
   "cell_type": "code",
   "execution_count": 41,
   "id": "bb5108fc",
   "metadata": {},
   "outputs": [
    {
     "name": "stdout",
     "output_type": "stream",
     "text": [
      "(dict_keys(['a', 'b', 'c']), dict_values([1, 2, 3]), 3)\n"
     ]
    }
   ],
   "source": [
    "def dict_operations(my_dict):\n",
    "    # 여기에 코드를 작성하세요\n",
    "    keys = my_dict.keys()\n",
    "    values = my_dict.values() # 여기 앞에 list를 붙이면 깔끔하게나옴\n",
    "    length_of_dict = len(my_dict)\n",
    "    return keys, values, length_of_dict\n",
    "\n",
    "example_dict = {'a': 1, 'b': 2, 'c': 3}\n",
    "result = dict_operations(example_dict)\n",
    "print(result)  # 출력: (['a', 'b', 'c'], [1, 2, 3], 3)"
   ]
  },
  {
   "cell_type": "code",
   "execution_count": 43,
   "id": "4b64927a",
   "metadata": {},
   "outputs": [
    {
     "name": "stdout",
     "output_type": "stream",
     "text": [
      "['b', 'c', 'd']\n"
     ]
    }
   ],
   "source": [
    "def dict_methods(my_dict):\n",
    "    # 1. 'd': 4 항목을 추가하세요\n",
    "    my_dict[\"d\"] = 4\n",
    "    # 2. 'a' 항목을 제거하세요\n",
    "    del my_dict[\"a\"]\n",
    "    # 3. 딕셔너리를 키 기준으로 정렬된 리스트로 반환하세요\n",
    "    return sorted(list(my_dict))\n",
    "\n",
    "example_dict = {'b': 2, 'a': 1, 'c': 3}\n",
    "sorted_dict = dict_methods(example_dict)\n",
    "print(sorted_dict)  # 출력: [('b', 2), ('c', 3), ('d', 4)]"
   ]
  },
  {
   "cell_type": "code",
   "execution_count": 44,
   "id": "f53beed5",
   "metadata": {},
   "outputs": [
    {
     "name": "stdout",
     "output_type": "stream",
     "text": [
      "{1, 2, 3, 4}\n",
      "{1, 2, 3, 4, 5}\n"
     ]
    }
   ],
   "source": [
    "def add_element(my_set, element):\n",
    "    # 여기에 코드를 작성하세요\n",
    "    return my_set.add(element)\n",
    "\n",
    "original_set = {1, 2, 3}\n",
    "add_element(original_set, 4)\n",
    "print(original_set)  # 출력: {1, 2, 3, 4}\n",
    "\n",
    "add_element(original_set, 5)\n",
    "print(original_set)  # 출력: {1, 2, 3, 4, 5}"
   ]
  },
  {
   "cell_type": "code",
   "execution_count": 53,
   "id": "897b2890",
   "metadata": {},
   "outputs": [
    {
     "name": "stdout",
     "output_type": "stream",
     "text": [
      "중복된 항목 발견: {2, 4}\n"
     ]
    }
   ],
   "source": [
    "# 다시 풀어보기\n",
    "def check_duplicates(my_list):\n",
    "    seen = set()\n",
    "    duplicates = set()\n",
    "    \n",
    "    for item in my_list:\n",
    "        if item in seen:\n",
    "            duplicates.add(item)\n",
    "        else:\n",
    "            seen.add(item)\n",
    "    \n",
    "    if duplicates:\n",
    "        print(f\"중복된 항목 발견: {duplicates}\")\n",
    "    else:\n",
    "        print(\"중복된 항목이 없습니다\")\n",
    "\n",
    "# 예시 사용법:\n",
    "duplicate_list = [1, 2, 2, 3, 4, 4, 4, 5]\n",
    "check_duplicates(duplicate_list)\n",
    "# 출력: 중복된 항목 발견: {2, 4}"
   ]
  },
  {
   "cell_type": "code",
   "execution_count": 54,
   "id": "3edbd539",
   "metadata": {},
   "outputs": [
    {
     "name": "stdout",
     "output_type": "stream",
     "text": [
      "({1, 2, 3, 4}, {2, 3}, {1})\n"
     ]
    }
   ],
   "source": [
    "def set_operations(set1, set2):\n",
    "    # 여기에 코드를 작성하세요\n",
    "    union_set = set1.union(set2)\n",
    "    intersection_set = set1.intersection(set2)\n",
    "    difference_set = set1.difference(set2)\n",
    "    return union_set, intersection_set, difference_set\n",
    "\n",
    "set1 = {1, 2, 3}\n",
    "set2 = {2, 3, 4}\n",
    "result = set_operations(set1, set2)\n",
    "print(result)  # 출력: ({1, 2, 3, 4}, {2, 3}, {1})"
   ]
  },
  {
   "cell_type": "code",
   "execution_count": 55,
   "id": "50dc1842",
   "metadata": {},
   "outputs": [
    {
     "name": "stdout",
     "output_type": "stream",
     "text": [
      "{1, 2, 4, 5}\n",
      "False\n"
     ]
    }
   ],
   "source": [
    "def set_methods(my_set):\n",
    "    # 1. 5를 집합에 추가하세요\n",
    "    my_set.add(5)\n",
    "    # 2. 3을 집합에서 제거하세요\n",
    "    my_set.discard(3)\n",
    "    # 3. 집합이 비어있는지 확인하세요\n",
    "    is_empty = len(my_set) == 0\n",
    "    return is_empty\n",
    "\n",
    "example_set = {1, 2, 3, 4}\n",
    "is_empty = set_methods(example_set)\n",
    "print(example_set)  # 출력: {1, 2, 4, 5}\n",
    "print(is_empty)     # 출력: False\n"
   ]
  },
  {
   "cell_type": "code",
   "execution_count": 57,
   "id": "c50d2c20",
   "metadata": {},
   "outputs": [
    {
     "name": "stdout",
     "output_type": "stream",
     "text": [
      "[[0, 1, 0, 1], [1, 0, 1, 0], [0, 1, 0, 1], [1, 0, 1, 0]]\n"
     ]
    }
   ],
   "source": [
    "# 인접 행렬로 그래프 표현\n",
    "graph = [\n",
    "    [0, 1, 0, 1],\n",
    "    [1, 0, 1, 0],\n",
    "    [0, 1, 0, 1],\n",
    "    [1, 0, 1, 0]\n",
    "]\n",
    "\n",
    "print(graph)"
   ]
  },
  {
   "cell_type": "code",
   "execution_count": 58,
   "id": "4ea7fb44",
   "metadata": {},
   "outputs": [],
   "source": [
    "from IPython.display import Image"
   ]
  },
  {
   "cell_type": "markdown",
   "id": "01d732dd",
   "metadata": {},
   "source": [
    "## 그래프\n",
    "\n",
    "1. **정점 (Vertex)와 간선 (Edge)**\n",
    "    \n",
    "![graph1.png](graph1.png)\n",
    "\n",
    "    \n",
    "    \n",
    "   - **정점**: 그래프에서 데이터 항목을 나타내는 개체. 정점은 노드(node)라고도 불립니다.\n",
    "   - **간선**: 정점 간의 관계를 나타내는 선. 간선은 링크(link) 또는 아크(arc)라고도 불립니다."
   ]
  },
  {
   "cell_type": "markdown",
   "id": "7ef80288",
   "metadata": {},
   "source": [
    "2. 예시 코드"
   ]
  },
  {
   "cell_type": "code",
   "execution_count": 63,
   "id": "b377f400",
   "metadata": {},
   "outputs": [],
   "source": [
    "# 인접 행렬로 그래프 표현\n",
    "graph = [\n",
    "    [0, 1, 0, 1],\n",
    "    [1, 0, 1, 0],\n",
    "    [0, 1, 0, 1],\n",
    "    [1, 0, 1, 0]\n",
    "]"
   ]
  },
  {
   "cell_type": "markdown",
   "id": "fc54af25",
   "metadata": {},
   "source": [
    "3. 그래프의 종류\n",
    "\n",
    "![graph2.png](graph2.png)"
   ]
  },
  {
   "cell_type": "markdown",
   "id": "d763bd9a",
   "metadata": {},
   "source": [
    "- **무방향 그래프 (Undirected Graph)**: 간선에 방향이 없는 그래프. 정점 A와 B가 연결되어 있으면 A에서 B로, B에서 A로 이동 가능합니다.\n",
    "- **방향 그래프 (Directed Graph)**: 간선에 방향이 있는 그래프. 정점 A에서 B로 가는 경로가 있을 때, A에서 B로는 갈 수 있지만 B에서 A로는 갈 수 없는 경우가 있을 수 있습니다.\n",
    "- **가중 그래프 (Weighted Graph)**: 간선에 가중치가 있는 그래프. 가중치는 두 정점 간의 거리나 비용을 나타냅니다."
   ]
  },
  {
   "cell_type": "markdown",
   "id": "f0bb5b42",
   "metadata": {},
   "source": [
    "4. **인접 행렬 (Adjacency Matrix)와 인접 리스트 (Adjacency List)**\n",
    "    - **인접 행렬**: 정점 간의 연결을 2차원 배열로 표현. 정점 i와 j가 연결되어 있으면 `matrix[i][j]`는 1, 그렇지 않으면 0."
   ]
  },
  {
   "cell_type": "code",
   "execution_count": 64,
   "id": "e2774492",
   "metadata": {},
   "outputs": [
    {
     "name": "stdout",
     "output_type": "stream",
     "text": [
      "[0, 1, 1, 0]\n",
      "[1, 0, 0, 1]\n",
      "[1, 0, 0, 1]\n",
      "[0, 1, 1, 0]\n"
     ]
    }
   ],
   "source": [
    "# 인접 행렬을 사용한 그래프 표현\n",
    "# A, B, C, D를 각각 0, 1, 2, 3으로 매핑\n",
    "graph = [\n",
    "    [0, 1, 1, 0],  # A\n",
    "    [1, 0, 0, 1],  # B\n",
    "    [1, 0, 0, 1],  # C\n",
    "    [0, 1, 1, 0]   # D\n",
    "]\n",
    "\n",
    "# 그래프 출력\n",
    "for row in graph:\n",
    "    print(row)"
   ]
  },
  {
   "cell_type": "markdown",
   "id": "f982b539",
   "metadata": {},
   "source": [
    "![graph3.png](graph3.png)"
   ]
  },
  {
   "cell_type": "markdown",
   "id": "3dd94457",
   "metadata": {},
   "source": [
    "- **인접 리스트**: 각 정점에 연결된 정점들의 리스트로 표현. 더 적은 메모리를 사용하며, 큰 그래프에서 유리합니다."
   ]
  },
  {
   "cell_type": "code",
   "execution_count": 65,
   "id": "247edd55",
   "metadata": {},
   "outputs": [
    {
     "name": "stdout",
     "output_type": "stream",
     "text": [
      "A: ['B', 'C']\n",
      "B: ['A', 'D']\n",
      "C: ['A', 'D']\n",
      "D: ['B', 'C']\n"
     ]
    }
   ],
   "source": [
    "# 인접 리스트를 사용한 그래프 표현\n",
    "graph = {\n",
    "    'A': ['B', 'C'],\n",
    "    'B': ['A', 'D'],\n",
    "    'C': ['A', 'D'],\n",
    "    'D': ['B', 'C']\n",
    "}\n",
    "\n",
    "# 그래프 출력\n",
    "for vertex in graph:\n",
    "    print(f'{vertex}: {graph[vertex]}')"
   ]
  },
  {
   "cell_type": "markdown",
   "id": "ca4df32b",
   "metadata": {},
   "source": [
    "![graph4.png](graph4.png)"
   ]
  },
  {
   "cell_type": "markdown",
   "id": "d94aa131",
   "metadata": {},
   "source": [
    "### 깊이 우선 탐색"
   ]
  },
  {
   "cell_type": "markdown",
   "id": "020cf22c",
   "metadata": {},
   "source": [
    "![graph5.png](graph5.png)"
   ]
  },
  {
   "cell_type": "markdown",
   "id": "a51be6ea",
   "metadata": {},
   "source": [
    "### 깊이 우선 탐색 (DFS)\n",
    "\n",
    "DFS는 그래프의 한 정점에서 시작하여 가능한 한 깊게 탐색한 후, 더 이상 갈 곳이 없으면 되돌아오는 방식으로 탐색을 진행합니다. 주로 스택을 사용하거나 재귀 호출을 통해 구현됩니다.\n",
    "\n",
    "### 주요 특징\n",
    "\n",
    "- 깊게 탐색 후, 막히면 백트래킹(되돌아가기)하는 방식.\n",
    "- 모든 정점을 방문할 때까지 반복.\n",
    "\n",
    "### 구현 (비재귀)"
   ]
  },
  {
   "cell_type": "code",
   "execution_count": 66,
   "id": "8394bcad",
   "metadata": {},
   "outputs": [
    {
     "name": "stdout",
     "output_type": "stream",
     "text": [
      "A B D E H I C F G "
     ]
    }
   ],
   "source": [
    "def dfs(graph, start):\n",
    "    visited = set()  # 순회 한 노드\n",
    "    stack = [start]  # 앞으로 순회 할 노드\n",
    "\n",
    "    while stack:\n",
    "        vertex = stack.pop()\n",
    "        if vertex not in visited:\n",
    "            print(vertex, end=' ')\n",
    "            visited.add(vertex)\n",
    "            for neighbor in reversed(graph[vertex]):\n",
    "                if neighbor not in visited:\n",
    "                    stack.append(neighbor)\n",
    "\n",
    "graph = {\n",
    "    'A': ['B', 'C'],\n",
    "    'B': ['D', 'E'],\n",
    "    'C': ['F', 'G'],\n",
    "    'D': [],\n",
    "    'E': ['H', 'I'],\n",
    "    'F': [],\n",
    "    'G': [],\n",
    "    'H': [],\n",
    "    'I': []\n",
    "}\n",
    "\n",
    "dfs(graph, 'A')\n",
    "# 출력: A C G F B E I H D\n",
    "\n"
   ]
  },
  {
   "cell_type": "markdown",
   "id": "c3c42e77",
   "metadata": {},
   "source": [
    "![graph6.png](graph6.png)"
   ]
  },
  {
   "cell_type": "markdown",
   "id": "314aa4f7",
   "metadata": {},
   "source": [
    "## 너비 우선 탐색\n",
    "\n",
    "### 너비 우선 탐색 (BFS)\n",
    "\n",
    "BFS는 그래프의 한 정점에서 시작하여 인접한 모든 정점을 먼저 탐색한 후, 그 다음 단계의 인접 정점을 탐색하는 방식으로 진행됩니다. 주로 큐를 사용하여 구현됩니다.\n",
    "\n",
    "### 주요 특징\n",
    "\n",
    "- 같은 레벨의 정점들을 모두 탐색한 후, 다음 레벨로 이동.\n",
    "- 최단 경로를 찾는 데 유용.\n",
    "\n",
    "### 구현"
   ]
  },
  {
   "cell_type": "code",
   "execution_count": 67,
   "id": "2d937fb3",
   "metadata": {},
   "outputs": [
    {
     "name": "stdout",
     "output_type": "stream",
     "text": [
      "A B C D E F G H I "
     ]
    }
   ],
   "source": [
    "from collections import deque\n",
    "\n",
    "def bfs(graph, start):\n",
    "    visited = set()\n",
    "    queue = deque([start])\n",
    "\n",
    "    while queue:\n",
    "        vertex = queue.popleft()\n",
    "        if vertex not in visited:\n",
    "            print(vertex, end=' ')\n",
    "            visited.add(vertex)\n",
    "            for neighbor in graph[vertex]:\n",
    "                if neighbor not in visited:\n",
    "                    queue.append(neighbor)\n",
    "\n",
    "graph = {\n",
    "    'A': ['B', 'C'],\n",
    "    'B': ['D', 'E'],\n",
    "    'C': ['F', 'G'],\n",
    "    'D': [],\n",
    "    'E': ['H', 'I'],\n",
    "    'F': [],\n",
    "    'G': [],\n",
    "    'H': [],\n",
    "    'I': []\n",
    "}\n",
    "\n",
    "bfs(graph, 'A')\n",
    "# 출력: A B C D E F G H I\n"
   ]
  },
  {
   "cell_type": "markdown",
   "id": "9d789e88",
   "metadata": {},
   "source": [
    "![graph7.png](graph7.png)"
   ]
  },
  {
   "cell_type": "markdown",
   "id": "d8e96f21",
   "metadata": {},
   "source": [
    "## 깊이 우선 탐색과 너비 우선 탐색의 비교\n",
    "\n",
    "### 차이점\n",
    "\n",
    "1. **탐색 방식**\n",
    "    - DFS: 깊게, 막힐 때까지 탐색한 후 되돌아오기.\n",
    "    - BFS: 넓게, 같은 레벨의 모든 정점을 탐색한 후 다음 레벨로 이동.\n",
    "2. **자료 구조**\n",
    "    - DFS: 스택(비재귀 구현) 또는 재귀 호출(내부적으로 스택 사용).\n",
    "    - BFS: 큐.\n",
    "3. **용도**\n",
    "    - DFS: 그래프의 모든 경로를 탐색하거나, 미로 찾기 등에서 사용.\n",
    "    - BFS: 최단 경로를 찾는 문제에서 유용, 레벨 단위로 탐색.\n",
    "\n",
    "### 요약\n",
    "\n",
    "- **DFS**: 깊이 우선 탐색, 스택을 사용, 모든 경로 탐색에 유리.\n",
    "- **BFS**: 너비 우선 탐색, 큐를 사용, 최단 경로 탐색에 유리.\n",
    "\n",
    "### 팁\n",
    "\n",
    "- 주로 코딩 테스트 / 알고리즘 문제들을 DFS가 많이 출제됨\n",
    "- DFS가 동작 검증을 하는데 더 쉬워서 자주 사용됨\n",
    "- 종종 어려운 문제들은 DFS가 아닌 BFS로 풀어야 시간 초과가 되지 않는 문제들도 존재"
   ]
  },
  {
   "cell_type": "code",
   "execution_count": 70,
   "id": "87c6d2d8",
   "metadata": {},
   "outputs": [
    {
     "name": "stdout",
     "output_type": "stream",
     "text": [
      "recursive_dfs(1)=[1, 2, 5, 6, 7, 3, 4]\n"
     ]
    }
   ],
   "source": [
    "graph = {\n",
    "    1: [2, 3, 4],\n",
    "    2: [5],\n",
    "    3: [5],\n",
    "    4: [],\n",
    "    5: [6, 7],\n",
    "    6: [],\n",
    "    7: [3],\n",
    "}\n",
    "\n",
    "def recursive_dfs(v, discovered=[]):\n",
    "    # 우리가 탐색한 경로\n",
    "    discovered = [1, 2, 5, 6, 7, 3, 4]\n",
    "    \n",
    "    discovered.append(v)\n",
    "    \n",
    "    for w in graph[v]: # 정점과 연결된 다른 정점\n",
    "        if w not in discovered: # 이미 탐색한 정점은 거르기\n",
    "            discovered = recursive_dfs(3, discovered)\n",
    "    return discovered\n",
    "    \n",
    "print(f'{recursive_dfs(1)=}')\n",
    "\n",
    "# recursive_dfs(1)=[1, 2, 5, 6, 7, 3, 4]"
   ]
  },
  {
   "cell_type": "code",
   "execution_count": null,
   "id": "d3b026f4",
   "metadata": {},
   "outputs": [],
   "source": []
  },
  {
   "cell_type": "code",
   "execution_count": null,
   "id": "0117d5d3",
   "metadata": {},
   "outputs": [],
   "source": [
    "![graph6.png](graph6.png)"
   ]
  },
  {
   "cell_type": "code",
   "execution_count": null,
   "id": "f0904020",
   "metadata": {},
   "outputs": [],
   "source": []
  },
  {
   "cell_type": "code",
   "execution_count": null,
   "id": "520c10dc",
   "metadata": {},
   "outputs": [],
   "source": [
    "graph = {\n",
    "    1: [2, 3, 4],\n",
    "    2: [5],\n",
    "    3: [5],\n",
    "    4: [],\n",
    "    5: [6, 7],\n",
    "    6: [],\n",
    "    7: [3],\n",
    "}\n",
    "\n",
    "def recursive_dfs(v, discovered = []):\n",
    "    \n",
    "    "
   ]
  },
  {
   "cell_type": "code",
   "execution_count": 71,
   "id": "afc8eb68",
   "metadata": {},
   "outputs": [
    {
     "name": "stdout",
     "output_type": "stream",
     "text": [
      "iterative_dfs(1)=[1, 4, 3, 5, 7, 6, 2]\n"
     ]
    }
   ],
   "source": [
    "graph = {\n",
    "    1: [2, 3, 4],\n",
    "    2: [5],\n",
    "    3: [5],\n",
    "    4: [],\n",
    "    5: [6, 7],\n",
    "    6: [],\n",
    "    7: [3],\n",
    "}\n",
    "\n",
    "def iterative_dfs(start_v):\n",
    "    discovered = []\n",
    "    stack = [start_v]\n",
    "    while stack:\n",
    "        v = stack.pop()\n",
    "        if v not in discovered:\n",
    "            discovered.append(v)\n",
    "            for w in graph[v]:\n",
    "                stack.append(w)\n",
    "    return discovered\n",
    "\n",
    "print(f'{iterative_dfs(1)=}')\n",
    "\n"
   ]
  },
  {
   "cell_type": "code",
   "execution_count": null,
   "id": "a776d403",
   "metadata": {},
   "outputs": [],
   "source": []
  },
  {
   "cell_type": "code",
   "execution_count": null,
   "id": "8c3e67fd",
   "metadata": {},
   "outputs": [],
   "source": [
    "graph = {\n",
    "    1: [2, 3, 4],\n",
    "    2: [5],\n",
    "    3: [5],\n",
    "    4: [],\n",
    "    5: [6, 7],\n",
    "    6: [],\n",
    "    7: [3],\n",
    "}\n",
    "\n",
    "def iterative_dfs(start_v):\n",
    "    discovered = []\n",
    "    stack = [start_v]\n",
    "    while stack:\n",
    "        v = stack.pop()\n",
    "        if v not in discovered:\n",
    "            discovered.append(v)\n",
    "            for w in graph[v]:\n",
    "                stack.append(w)\n",
    "    \n",
    "    return discovered\n",
    "\n",
    "print(f'{iterative_dfs(1)=}')"
   ]
  },
  {
   "cell_type": "code",
   "execution_count": 75,
   "id": "ee7ee606",
   "metadata": {},
   "outputs": [
    {
     "name": "stdout",
     "output_type": "stream",
     "text": [
      "[1]\n",
      "[2, 3, 4]\n",
      "[3, 4, 5]\n",
      "[4, 5]\n",
      "[5]\n",
      "[6, 7]\n",
      "[7]\n",
      "iterative_bfs(1)=[1, 2, 3, 4, 5, 6, 7]\n"
     ]
    }
   ],
   "source": [
    "graph = {\n",
    "    1: [2, 3, 4],\n",
    "    2: [5],\n",
    "    3: [5],\n",
    "    4: [],\n",
    "    5: [6, 7],\n",
    "    6: [],\n",
    "    7: [3],\n",
    "}\n",
    "\n",
    "def iterative_bfs(start_v):\n",
    "    discovered = [start_v]\n",
    "    queue = [start_v]\n",
    "    while queue:\n",
    "        print(queue)\n",
    "        v = queue.pop(0)\n",
    "        for w in graph[v]:\n",
    "            if w not in discovered:\n",
    "                discovered.append(w)\n",
    "                queue.append(w)\n",
    "    return discovered\n",
    "    \n",
    "print(f'{iterative_bfs(1)=}')\n",
    "    \n",
    "# iterative_bfs(1)=[1, 2, 3, 4, 5, 6, 7]"
   ]
  },
  {
   "cell_type": "code",
   "execution_count": null,
   "id": "1dfaa896",
   "metadata": {},
   "outputs": [],
   "source": []
  }
 ],
 "metadata": {
  "kernelspec": {
   "display_name": "Python 3 (ipykernel)",
   "language": "python",
   "name": "python3"
  },
  "language_info": {
   "codemirror_mode": {
    "name": "ipython",
    "version": 3
   },
   "file_extension": ".py",
   "mimetype": "text/x-python",
   "name": "python",
   "nbconvert_exporter": "python",
   "pygments_lexer": "ipython3",
   "version": "3.11.7"
  }
 },
 "nbformat": 4,
 "nbformat_minor": 5
}
