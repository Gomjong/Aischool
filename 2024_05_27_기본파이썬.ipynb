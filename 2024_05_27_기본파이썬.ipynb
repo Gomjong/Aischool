{
 "cells": [
  {
   "cell_type": "markdown",
   "id": "03fdef32",
   "metadata": {},
   "source": [
    "# 학습키워드 \n",
    "\n",
    "* 함수\n",
    "* 매개변수"
   ]
  },
  {
   "cell_type": "markdown",
   "id": "8fbe6f02",
   "metadata": {},
   "source": [
    "## 함수\n",
    "\n",
    "실습문제 모음\n"
   ]
  },
  {
   "cell_type": "code",
   "execution_count": 9,
   "id": "fa601bce",
   "metadata": {},
   "outputs": [
    {
     "name": "stdout",
     "output_type": "stream",
     "text": [
      "8\n",
      "hellohellohellohello\n",
      "100\n",
      "24\n",
      "name : 종원, age : 26\n",
      "None\n",
      "name : 종원, age : 26\n",
      "None\n"
     ]
    }
   ],
   "source": [
    "#문제1:함수 호출\n",
    "\n",
    "def add(a, b):\n",
    "    return a+b\n",
    "\n",
    "print(add(3,5))\n",
    "\n",
    "#문제2:매개변수와 리턴값\n",
    "\n",
    "def repeat_string(a, b):\n",
    "    return a*b\n",
    "\n",
    "print(repeat_string(\"hello\",4))\n",
    "\n",
    "#문제3:가변 매개변수\n",
    "\n",
    "def sum_all(*args):\n",
    "    sum = 0\n",
    "    for i in args:\n",
    "        sum += i\n",
    "    return sum\n",
    "\n",
    "print(sum_all(10,20,30,40))\n",
    "\n",
    "#문제4:기본 매개변수      -> b를 입력받지 않으면 기본값은 1\n",
    "\n",
    "def multiply(a, b=1):\n",
    "    return a*b\n",
    "\n",
    "print(multiply(6,4))\n",
    "\n",
    "#문제5:키워드 매개변수\n",
    "\n",
    "def print_info(name, age):\n",
    "    print(f\"name : {name}, age : {age}\")\n",
    "    \n",
    "print(print_info(name = \"종원\", age = 26)) \n",
    "print(print_info(age = 26, name = \"종원\"))   # 여기는 서순이 상관없이 name, age를 지정하여 순서가 함수에서 상관이없음 "
   ]
  },
  {
   "cell_type": "code",
   "execution_count": null,
   "id": "83dd32e6",
   "metadata": {},
   "outputs": [],
   "source": []
  }
 ],
 "metadata": {
  "kernelspec": {
   "display_name": "Python 3 (ipykernel)",
   "language": "python",
   "name": "python3"
  },
  "language_info": {
   "codemirror_mode": {
    "name": "ipython",
    "version": 3
   },
   "file_extension": ".py",
   "mimetype": "text/x-python",
   "name": "python",
   "nbconvert_exporter": "python",
   "pygments_lexer": "ipython3",
   "version": "3.11.7"
  }
 },
 "nbformat": 4,
 "nbformat_minor": 5
}
