{
 "cells": [
  {
   "cell_type": "code",
   "execution_count": 58,
   "id": "757b2fbd",
   "metadata": {},
   "outputs": [],
   "source": [
    "from IPython.display import Image"
   ]
  },
  {
   "cell_type": "markdown",
   "id": "640d1e70",
   "metadata": {},
   "source": [
    "## 복습 문제\n",
    "- 1. 함수\n",
    "- 2. 예외처리\n",
    "- 3. 모듈\n",
    "- 4. 클래스"
   ]
  },
  {
   "cell_type": "code",
   "execution_count": 10,
   "id": "6db27c50",
   "metadata": {},
   "outputs": [],
   "source": [
    "import import_ipynb\n",
    "import calculator"
   ]
  },
  {
   "cell_type": "code",
   "execution_count": 11,
   "id": "0d3cd7aa",
   "metadata": {
    "scrolled": true
   },
   "outputs": [
    {
     "name": "stdout",
     "output_type": "stream",
     "text": [
      "hello, Alice!\n",
      "None\n",
      "Hi, Bob!\n",
      "None\n",
      "Hey, Charlie!!\n",
      "None\n"
     ]
    }
   ],
   "source": [
    "def greet(name, greeting = \"hello\", punctuation = \"!\"):\n",
    "    print(f\"{greeting}, {name}{punctuation}\")\n",
    "\n",
    "\n",
    "print(greet(\"Alice\")) # 출력: \"Hello, Alice!\"\n",
    "print(greet(\"Bob\", greeting=\"Hi\")) # 출력: \"Hi, Bob!\"\n",
    "print(greet(\"Charlie\", \"Hey\", punctuation=\"!!\")) # 출력: \"Hey, Charlie!!\"\n"
   ]
  },
  {
   "cell_type": "code",
   "execution_count": 12,
   "id": "63e069ff",
   "metadata": {},
   "outputs": [
    {
     "name": "stdout",
     "output_type": "stream",
     "text": [
      "5.0\n",
      "Error: Division by zero is not allowed.\n",
      "None\n"
     ]
    }
   ],
   "source": [
    "def divide(a, b):\n",
    "    if b == 0:\n",
    "        print(\"Error: Division by zero is not allowed.\")\n",
    "    else:\n",
    "        return a/b\n",
    "    \n",
    "print(divide(10, 2)) # 출력: 5.0\n",
    "print(divide(10, 0)) # 출력: \"Error: Division by zero is not allowed.\"\n"
   ]
  },
  {
   "cell_type": "code",
   "execution_count": 15,
   "id": "77dad1f6",
   "metadata": {},
   "outputs": [
    {
     "name": "stdout",
     "output_type": "stream",
     "text": [
      "8\n",
      "15\n"
     ]
    }
   ],
   "source": [
    "# 호출 부분\n",
    "from calculator import add, multiply\n",
    "\n",
    "print(add(3, 5)) # 출력: 8\n",
    "print(multiply(3, 5)) # 출력: 15\n"
   ]
  },
  {
   "cell_type": "code",
   "execution_count": 16,
   "id": "d6664e2c",
   "metadata": {},
   "outputs": [
    {
     "name": "stdout",
     "output_type": "stream",
     "text": [
      "렉스(이)가 멍멍!\n",
      "위스커스(이)가 냐옹!\n",
      "제네릭(이)가 어떤 소리를 냅니다\n"
     ]
    }
   ],
   "source": [
    "# 호출 부분\n",
    "class Animal:\n",
    "    def __init__(self, name):\n",
    "        self.name = name\n",
    "    \n",
    "    def speak(self):\n",
    "        return \"어떤 소리를 냅니다\"\n",
    "        \n",
    "    \n",
    "class Dog(Animal):\n",
    "    def speak(self):\n",
    "        return \"멍멍!\"\n",
    "\n",
    "\n",
    "class Cat(Animal):\n",
    "    def speak(self):\n",
    "        return \"냐옹!\"\n",
    "\n",
    "\n",
    "animals = [Dog(\"렉스\"), Cat(\"위스커스\"), Animal(\"제네릭\")]\n",
    "for animal in animals:\n",
    "    print(f\"{animal.name}(이)가 {animal.speak()}\")\n",
    "# 출력:\n",
    "# 렉스(이)가 멍멍!\n",
    "# 위스커스(이)가 야옹!\n",
    "# 제너릭(이)가 어떤 소리를 냅니다"
   ]
  },
  {
   "cell_type": "markdown",
   "id": "9e634c73",
   "metadata": {},
   "source": [
    "## 시간 복잡도 - 빅 오(Big-O) 표기법"
   ]
  },
  {
   "cell_type": "markdown",
   "id": "c247f0cc",
   "metadata": {},
   "source": [
    "### O(1) 상수 시간 복잡도\n",
    "- 입력 크기와 상관없이 일정한 시간이 걸리는 알고리즘"
   ]
  },
  {
   "cell_type": "code",
   "execution_count": 17,
   "id": "8f9bfd4e",
   "metadata": {},
   "outputs": [],
   "source": [
    "# 예시: 배열의 첫 번째 원소를 출력하는 함수\n",
    "def print_first_element(arr):\n",
    "    print(arr[0])"
   ]
  },
  {
   "cell_type": "code",
   "execution_count": 24,
   "id": "5e42c49c",
   "metadata": {
    "scrolled": true
   },
   "outputs": [
    {
     "name": "stdout",
     "output_type": "stream",
     "text": [
      "Execution time: 0.001172780990600586 seconds\n"
     ]
    }
   ],
   "source": [
    "import time\n",
    "\n",
    "def is_even(n):\n",
    "    return n % 2 == 0\n",
    "\n",
    "n = 10000000\n",
    "start = time.time()\n",
    "is_even(n)\n",
    "end = time.time()\n",
    "print(f\"Execution time: {end - start} seconds\")"
   ]
  },
  {
   "cell_type": "markdown",
   "id": "7f49ea12",
   "metadata": {},
   "source": [
    "### **O(log n) - 로그 시간 복잡도**\n",
    "\n",
    "입력 크기가 커질수록 실행 시간이 로그 형태로 증가하는 알고리즘입니다. 이진 탐색 알고리즘이 대표적입니다."
   ]
  },
  {
   "cell_type": "code",
   "execution_count": 3,
   "id": "6bb64edf",
   "metadata": {},
   "outputs": [],
   "source": [
    "# 예시: 이진 탐색\n",
    "def binary_search(arr, target):\n",
    "    left, right = 0, len(arr) - 1\n",
    "    while left <= right:\n",
    "        mid = (left + right) // 2\n",
    "        if arr[mid] == target:\n",
    "            return mid\n",
    "        elif arr[mid] < target:\n",
    "            left = mid + 1\n",
    "        else:\n",
    "            right = mid - 1\n",
    "    return -1\n",
    "\n",
    "# 시간 복잡도: O(log n)"
   ]
  },
  {
   "cell_type": "markdown",
   "id": "0deb3777",
   "metadata": {},
   "source": [
    "### O(N) 선형 시간 복잡도\n",
    "입력 크기에 비례하여 실행 시간이 증가하는 알고리즘입니다."
   ]
  },
  {
   "cell_type": "markdown",
   "id": "69693b81",
   "metadata": {},
   "source": [
    "##### sum_array 함수는 배열의 모든 요소를 한 번씩 순회하며 합계를 계산합니다.\n",
    "##### 배열의 크기가 N일 때, 순회하는 데 걸리는 시간은 N에 비례하므로 시간 복잡도는 O(N)입니다."
   ]
  },
  {
   "cell_type": "code",
   "execution_count": 26,
   "id": "9dda0734",
   "metadata": {},
   "outputs": [
    {
     "name": "stdout",
     "output_type": "stream",
     "text": [
      "Execution time: 0.027890920639038086 seconds\n"
     ]
    }
   ],
   "source": [
    "def sum_array(arr):\n",
    "    total = 0\n",
    "    for num in arr:\n",
    "        total += num\n",
    "    return total\n",
    "\n",
    "import time\n",
    "\n",
    "arr = list(range(1000000))\n",
    "start = time.time()\n",
    "sum_array(arr)\n",
    "end = time.time()\n",
    "print(f\"Execution time: {end - start} seconds\")"
   ]
  },
  {
   "cell_type": "markdown",
   "id": "fffe148e",
   "metadata": {},
   "source": [
    "### **O(n log n) - 로그 선형 시간 복잡도**\n",
    "\n",
    "많은 정렬 알고리즘이 이 시간 복잡도를 가집니다."
   ]
  },
  {
   "cell_type": "code",
   "execution_count": 4,
   "id": "919077fc",
   "metadata": {},
   "outputs": [],
   "source": [
    "# 예시: 병합 정렬\n",
    "def merge_sort(arr):\n",
    "    if len(arr) > 1:\n",
    "        mid = len(arr) // 2\n",
    "        left_half = arr[:mid]\n",
    "        right_half = arr[mid:]\n",
    "\n",
    "        merge_sort(left_half)\n",
    "        merge_sort(right_half)\n",
    "\n",
    "        i = j = k = 0\n",
    "\n",
    "        while i < len(left_half) and j < len(right_half):\n",
    "            if left_half[i] < right_half[j]:\n",
    "                arr[k] = left_half[i]\n",
    "                i += 1\n",
    "            else:\n",
    "                arr[k] = right_half[j]\n",
    "                j += 1\n",
    "            k += 1\n",
    "\n",
    "        while i < len(left_half):\n",
    "            arr[k] = left_half[i]\n",
    "            i += 1\n",
    "            k += 1\n",
    "\n",
    "        while j < len(right_half):\n",
    "            arr[k] = right_half[j]\n",
    "            j += 1\n",
    "            k += 1\n",
    "\n",
    "# 시간 복잡도: O(n log n)"
   ]
  },
  {
   "cell_type": "markdown",
   "id": "7cf919f6",
   "metadata": {},
   "source": [
    "### **O(n^2) - 이차 시간 복잡도**\n",
    "\n",
    "입력 크기가 커질수록 실행 시간이 제곱 형태로 증가하는 알고리즘입니다. 버블 정렬이 대표적입니다."
   ]
  },
  {
   "cell_type": "code",
   "execution_count": 5,
   "id": "758e83c4",
   "metadata": {},
   "outputs": [],
   "source": [
    "# 예시: 버블 정렬\n",
    "def bubble_sort(arr):\n",
    "    n = len(arr)\n",
    "    for i in range(n):\n",
    "        for j in range(0, n-i-1):\n",
    "            if arr[j] > arr[j+1]:\n",
    "                arr[j], arr[j+1] = arr[j+1], arr[j]\n",
    "\n",
    "# 시간 복잡도: O(n^2)"
   ]
  },
  {
   "cell_type": "markdown",
   "id": "6518074d",
   "metadata": {},
   "source": [
    "### *O(N^2).*\n",
    "\n",
    "**설명:** **`selection_sort`** 함수는 배열의 각 요소에 대해 나머지 요소들과 비교하여 최소값을 찾습니다. 첫 번째 요소를 정렬하는 데 *N*번 비교하고, 두 번째 요소는 *N*−1번 비교하는 식으로 총 $N + (N-1) + (N-2) + \\cdots + 1 = \\frac{N(N-1)}{2}$ 번 비교를 수행하므로 시간 복잡도는 $N^2$입니다."
   ]
  },
  {
   "cell_type": "code",
   "execution_count": 10,
   "id": "fd991d90",
   "metadata": {},
   "outputs": [
    {
     "name": "stdout",
     "output_type": "stream",
     "text": [
      "Execution time: 0.02388310432434082 seconds\n"
     ]
    }
   ],
   "source": [
    "# 예시 : 선택 정렬\n",
    "import time\n",
    "\n",
    "def selection_sort(arr):\n",
    "    n = len(arr)\n",
    "    for i in range(n):\n",
    "        min_idx = i\n",
    "        for j in range(i+1, n):\n",
    "            if arr[j] < arr[min_idx]:\n",
    "                min_idx = j\n",
    "        arr[i], arr[min_idx] = arr[min_idx], arr[i]\n",
    "    return arr\n",
    "\n",
    "arr = list(range(1000, 0, -1))\n",
    "start = time.time()\n",
    "selection_sort(arr)\n",
    "end = time.time()\n",
    "print(f\"Execution time: {end - start} seconds\")\n"
   ]
  },
  {
   "cell_type": "markdown",
   "id": "3faaf537",
   "metadata": {},
   "source": [
    "### **O(2^n) - 지수 시간 복잡도**\n",
    "\n",
    "입력 크기가 커질수록 실행 시간이 지수 형태로 증가하는 알고리즘입니다. 피보나치 수열을 재귀적으로 계산하는 알고리즘이 대표적입니다."
   ]
  },
  {
   "cell_type": "code",
   "execution_count": 6,
   "id": "f3dcd578",
   "metadata": {},
   "outputs": [],
   "source": [
    "# 예시: 피보나치 수열\n",
    "def fibonacci(n):\n",
    "    if n <= 1:\n",
    "        return n\n",
    "    else:\n",
    "        return fibonacci(n-1) + fibonacci(n-2)\n",
    "\n",
    "# 시간 복잡도: O(2^n)"
   ]
  },
  {
   "cell_type": "markdown",
   "id": "a656b1a3",
   "metadata": {},
   "source": [
    "### **O(n!) - 팩토리얼 시간 복잡도**\n",
    "\n",
    "가장 비효율적인 시간 복잡도로, 순열 생성 알고리즘이 이 시간 복잡도를 가집니다."
   ]
  },
  {
   "cell_type": "code",
   "execution_count": 7,
   "id": "8fbb3cec",
   "metadata": {},
   "outputs": [],
   "source": [
    "# 예시: 순열 생성\n",
    "from itertools import permutations\n",
    "\n",
    "def generate_permutations(arr):\n",
    "    return list(permutations(arr))\n",
    "\n",
    "# 시간 복잡도: O(n!)"
   ]
  },
  {
   "cell_type": "markdown",
   "id": "9a61567c",
   "metadata": {},
   "source": [
    "### **요약**\n",
    "\n",
    "- **O(1)**: 상수 시간 복잡도 (예: 배열의 첫 번째 원소 접근)\n",
    "- **O(log n)**: 로그 시간 복잡도 (예: 이진 탐색)\n",
    "- **O(n)**: 선형 시간 복잡도 (예: 배열의 모든 원소 출력)\n",
    "- **O(n log n)**: 로그 선형 시간 복잡도 (예: 병합 정렬)\n",
    "- **O(n^2)**: 이차 시간 복잡도 (예: 버블 정렬, 선택 정렬)\n",
    "- **O(2^n)**: 지수 시간 복잡도 (예: 재귀적 피보나치 수열 계산)\n",
    "- **O(n!)**: 팩토리얼 시간 복잡도 (예: 순열 생성)"
   ]
  },
  {
   "cell_type": "markdown",
   "id": "ac742f8f",
   "metadata": {},
   "source": [
    "## 리스트 (파이썬 알고리즘 인터뷰, 121p)\n",
    "\n",
    "### 리스트의 주요 특징\n",
    "\n",
    "1. 순서가 있는 데이터 구조 (Ordered) : 리스트는 항목들이 입력된 순서대로 유지\n",
    "2. 가변성 (Mutable) : 리스트는 생성된 이후에도 항목을 추가, 제거, 수정 가능\n",
    "3. 중복 허용 (Allow Duplicates) : 리스트는 중복된 값을 허용\n",
    "4. 다양한 데이터 타입 저장 가능 (Heterogeneous) : 리스트는 문자열, 숫자, 다른 리스트 등 다양한 데이터 타입을 저장 가능"
   ]
  },
  {
   "cell_type": "markdown",
   "id": "55f31a62",
   "metadata": {},
   "source": [
    "### 리스트 생성\n",
    "- 리스트는 대괄호를 사용하여 생성할 수 있다."
   ]
  },
  {
   "cell_type": "code",
   "execution_count": 30,
   "id": "22351ad4",
   "metadata": {},
   "outputs": [
    {
     "name": "stdout",
     "output_type": "stream",
     "text": [
      "[1, 'hello', 3.14, True, [1, 2, 3]]\n"
     ]
    }
   ],
   "source": [
    "# 빈 리스트 생성\n",
    "empty_list = []\n",
    "\n",
    "# 여러 데이터 타입을 포함한 리스트 생성\n",
    "mixed_list = [1, \"hello\", 3.14, True, [1, 2, 3]]\n",
    "print(mixed_list)"
   ]
  },
  {
   "cell_type": "markdown",
   "id": "3664aec3",
   "metadata": {},
   "source": [
    "### 리스트의 기본 연산\n"
   ]
  },
  {
   "cell_type": "markdown",
   "id": "ba0a2d2d",
   "metadata": {},
   "source": [
    "##### 1. 항목 접근 (Indexing):"
   ]
  },
  {
   "cell_type": "code",
   "execution_count": 13,
   "id": "0afdf1e3",
   "metadata": {},
   "outputs": [
    {
     "name": "stdout",
     "output_type": "stream",
     "text": [
      "10\n",
      "40\n"
     ]
    }
   ],
   "source": [
    "numbers = [10, 20, 30, 40, 50]\n",
    "print(numbers[0])  # 10\n",
    "print(numbers[-2]) # 40 (역순 인덱스)\n"
   ]
  },
  {
   "cell_type": "markdown",
   "id": "c9c054ea",
   "metadata": {},
   "source": [
    "##### 2. 항목 변경 (Modifying):"
   ]
  },
  {
   "cell_type": "code",
   "execution_count": 14,
   "id": "43fbd885",
   "metadata": {},
   "outputs": [
    {
     "name": "stdout",
     "output_type": "stream",
     "text": [
      "[100, 20, 30, 40, 50]\n"
     ]
    }
   ],
   "source": [
    "numbers[0] = 100\n",
    "print(numbers)  \n",
    "# numbers [0] 10 -> 100"
   ]
  },
  {
   "cell_type": "markdown",
   "id": "ac05edc8",
   "metadata": {},
   "source": [
    "##### 3. 항목 추가 (Appending):"
   ]
  },
  {
   "cell_type": "code",
   "execution_count": 15,
   "id": "fd3efdf1",
   "metadata": {},
   "outputs": [
    {
     "name": "stdout",
     "output_type": "stream",
     "text": [
      "[100, 20, 30, 40, 50, 60]\n"
     ]
    }
   ],
   "source": [
    "numbers.append(60)\n",
    "print(numbers)  # [100, 20, 30, 40, 50, 60]\n"
   ]
  },
  {
   "cell_type": "markdown",
   "id": "ccf210a3",
   "metadata": {},
   "source": [
    "##### 4. 항목 삽입 (Inserting):"
   ]
  },
  {
   "cell_type": "code",
   "execution_count": 16,
   "id": "71e0cb25",
   "metadata": {},
   "outputs": [
    {
     "name": "stdout",
     "output_type": "stream",
     "text": [
      "[100, 20, 25, 30, 40, 50, 60]\n"
     ]
    }
   ],
   "source": [
    "numbers.insert(2, 25)\n",
    "print(numbers)  # [100, 20, 25, 30, 40, 50, 60]\n"
   ]
  },
  {
   "cell_type": "markdown",
   "id": "c3137d2a",
   "metadata": {},
   "source": [
    "##### 5. 항목 제거 (Removing):"
   ]
  },
  {
   "cell_type": "code",
   "execution_count": 17,
   "id": "9afb712d",
   "metadata": {},
   "outputs": [
    {
     "name": "stdout",
     "output_type": "stream",
     "text": [
      "[100, 20, 25, 40, 50, 60]\n"
     ]
    }
   ],
   "source": [
    "numbers.remove(30)\n",
    "print(numbers)  # [100, 20, 25, 40, 50, 60]\n"
   ]
  },
  {
   "cell_type": "markdown",
   "id": "743f9245",
   "metadata": {},
   "source": [
    "##### 6. 항목 팝 (Pop):"
   ]
  },
  {
   "cell_type": "code",
   "execution_count": 18,
   "id": "95f18720",
   "metadata": {},
   "outputs": [
    {
     "name": "stdout",
     "output_type": "stream",
     "text": [
      "60\n",
      "[100, 20, 25, 40, 50]\n"
     ]
    }
   ],
   "source": [
    "last_item = numbers.pop()\n",
    "print(last_item)  # 60\n",
    "print(numbers)    # [100, 20, 25, 40, 50]\n"
   ]
  },
  {
   "cell_type": "markdown",
   "id": "674d0380",
   "metadata": {},
   "source": [
    "##### 7. 항목 포함 여부 확인 (Checking Membership):"
   ]
  },
  {
   "cell_type": "code",
   "execution_count": 19,
   "id": "70d03415",
   "metadata": {},
   "outputs": [
    {
     "name": "stdout",
     "output_type": "stream",
     "text": [
      "True\n",
      "False\n"
     ]
    }
   ],
   "source": [
    "print(20 in numbers)  # True\n",
    "print(70 in numbers)  # False\n"
   ]
  },
  {
   "cell_type": "markdown",
   "id": "85f87455",
   "metadata": {},
   "source": [
    "### 리스트의 주요 메소드"
   ]
  },
  {
   "cell_type": "markdown",
   "id": "5aece180",
   "metadata": {},
   "source": [
    "##### 슬라이싱"
   ]
  },
  {
   "cell_type": "code",
   "execution_count": 21,
   "id": "6bcb3528",
   "metadata": {},
   "outputs": [
    {
     "name": "stdout",
     "output_type": "stream",
     "text": [
      "[10, 20, 30, 40, 50]\n",
      "[30, 40, 50]\n",
      "[10, 20, 30, 40]\n",
      "[60, 70, 80, 100]\n",
      "[10, 30, 50, 70, 100]\n",
      "[10, 20, 30]\n"
     ]
    }
   ],
   "source": [
    "numbers = [10, 20, 30, 40, 50, 60, 70, 80, 100]\n",
    "print(numbers[:5]) # [0:5:1]\n",
    "print(numbers[2:5]) # [2:5:1]\n",
    "print(numbers[:-5]) # [0:-5:1]\n",
    "print(numbers[5:]) # [5:len(n):1]\n",
    "print(numbers[::2]) # [0:len(n):1]\n",
    "print(numbers[:3:]) # [0:len(n):1]\n"
   ]
  },
  {
   "cell_type": "markdown",
   "id": "a17805e7",
   "metadata": {},
   "source": [
    "##### 1. extend(): 리스트에 다른 리스트나 반복 가능한 객체의 모든 항목을 추가합니다."
   ]
  },
  {
   "cell_type": "code",
   "execution_count": 22,
   "id": "87a56ed4",
   "metadata": {
    "scrolled": true
   },
   "outputs": [
    {
     "name": "stdout",
     "output_type": "stream",
     "text": [
      "[10, 20, 30, 40, 50, 60, 70, 80, 100, 70, 80]\n"
     ]
    }
   ],
   "source": [
    "numbers.extend([70, 80])\n",
    "print(numbers)  # [10, 20, 30, 40, 50, 60, 70, 80, 100, 70, 80]\n"
   ]
  },
  {
   "cell_type": "markdown",
   "id": "2cfcd592",
   "metadata": {},
   "source": [
    "##### 2. sort(): 리스트를 정렬합니다."
   ]
  },
  {
   "cell_type": "code",
   "execution_count": 23,
   "id": "018ca5bc",
   "metadata": {},
   "outputs": [
    {
     "name": "stdout",
     "output_type": "stream",
     "text": [
      "[10, 20, 30, 40, 50, 60, 70, 70, 80, 80, 100]\n"
     ]
    }
   ],
   "source": [
    "numbers.sort()\n",
    "print(numbers)  # [10, 20, 30, 40, 50, 60, 70, 70, 80, 80, 100]\n"
   ]
  },
  {
   "cell_type": "markdown",
   "id": "6527ad7c",
   "metadata": {},
   "source": [
    "##### 3. reverse(): 리스트의 항목 순서를 반대로 뒤집습니다."
   ]
  },
  {
   "cell_type": "code",
   "execution_count": 24,
   "id": "792e0d6a",
   "metadata": {},
   "outputs": [
    {
     "name": "stdout",
     "output_type": "stream",
     "text": [
      "[100, 80, 80, 70, 70, 60, 50, 40, 30, 20, 10]\n"
     ]
    }
   ],
   "source": [
    "numbers.reverse()\n",
    "print(numbers)  # [100, 80, 80, 70, 70, 60, 50, 40, 30, 20, 10]\n"
   ]
  },
  {
   "cell_type": "markdown",
   "id": "5c8484db",
   "metadata": {},
   "source": [
    "##### 4. index(): 특정 항목의 첫 번째 인덱스를 반환합니다."
   ]
  },
  {
   "cell_type": "code",
   "execution_count": 27,
   "id": "9d6b35b9",
   "metadata": {},
   "outputs": [
    {
     "name": "stdout",
     "output_type": "stream",
     "text": [
      "6\n"
     ]
    }
   ],
   "source": [
    "index = numbers.index(50)\n",
    "print(index)  # 6\n"
   ]
  },
  {
   "cell_type": "markdown",
   "id": "f42a1f25",
   "metadata": {},
   "source": [
    "##### 5. count(): 리스트 내에서 특정 항목이 몇 번 등장하는지 반환합니다."
   ]
  },
  {
   "cell_type": "code",
   "execution_count": 28,
   "id": "d10207ba",
   "metadata": {},
   "outputs": [
    {
     "name": "stdout",
     "output_type": "stream",
     "text": [
      "2\n"
     ]
    }
   ],
   "source": [
    "count = numbers.count(70)\n",
    "print(count)  # 2\n"
   ]
  },
  {
   "cell_type": "markdown",
   "id": "52b5ef9b",
   "metadata": {},
   "source": [
    "##### 리스트 활용 예제\n",
    "\n",
    "- 리스트는 데이터를 저장하고 조작하는 데 매우 유용하며, 파이썬의 다양한 내장 함수 및 메소드와 함께 사용할 수 있습니다. 예를 들어, 리스트 컴프리헨션을 사용하면 리스트를 간결하고 효율적으로 생성할 수 있습니다."
   ]
  },
  {
   "cell_type": "code",
   "execution_count": 56,
   "id": "4b470bad",
   "metadata": {},
   "outputs": [
    {
     "name": "stdout",
     "output_type": "stream",
     "text": [
      "[0, 1, 4, 9, 16, 25, 36, 49, 64, 81]\n"
     ]
    }
   ],
   "source": [
    "# 리스트 컴프리헨션 예제\n",
    "squares = [x**2 for x in range(10)]\n",
    "print(squares)  # [0, 1, 4, 9, 16, 25, 36, 49, 64, 81]\n"
   ]
  },
  {
   "cell_type": "markdown",
   "id": "7686a430",
   "metadata": {},
   "source": [
    "![nn](list_pic.png)"
   ]
  },
  {
   "cell_type": "markdown",
   "id": "a3e03b30",
   "metadata": {},
   "source": [
    "## 딕셔너리 (파이썬 알고리즘 인터뷰, p128)\n",
    "### 딕셔너리의 주요 특징\n",
    "\n",
    "1. 키-값 쌍 (Key-Value Pairs): 딕셔너리는 각 항목이 고유한 키와 그에 대응하는 값으로 구성됩니다.\n",
    "2. 비순차적 (Unordered): 딕셔너리는 항목들이 입력된 순서를 유지하지 않습니다. (파이썬 3.7부터는 입력된 순서를 유지합니다.)\n",
    "3. 가변성 (Mutable): 딕셔너리는 생성된 이후에도 키-값 쌍을 추가, 제거, 수정할 수 있습니다.\n",
    "4. 키는 유일해야 함 (Unique Keys): 딕셔너리의 키는 중복될 수 없습니다. 값은 중복될 수 있습니다.\n"
   ]
  },
  {
   "cell_type": "markdown",
   "id": "78171474",
   "metadata": {},
   "source": [
    "### 딕셔너리 생성"
   ]
  },
  {
   "cell_type": "markdown",
   "id": "545bcdc2",
   "metadata": {},
   "source": [
    "##### 딕셔너리의 주요 특징\n",
    "\n",
    "1. 딕셔너리는 중괄호를 사용하여 생성할 수 있습니다.\n",
    "2. 키-값 쌍 (Key-Value Pairs): 딕셔너리는 각 항목이 고유한 키와 그에 대응하는 값으로 구성됩니다.\n",
    "3. 비순차적 (Unordered): 딕셔너리는 항목들이 입력된 순서를 유지하지 않습니다. (파이썬 3.7부터는 입력된 순서를 유지합니다.)\n",
    "4. 키는 유일해야 함 (Unique Keys): 딕셔너리의 키는 중복될 수 없습니다. 값은 중복될 수 있습니다."
   ]
  },
  {
   "cell_type": "code",
   "execution_count": 73,
   "id": "22561d1c",
   "metadata": {},
   "outputs": [],
   "source": [
    "# 빈 딕셔너리 생성\n",
    "empty_dict = {}\n",
    "\n",
    "# 키-값 쌍을 포함한 딕셔너리 생성\n",
    "person = {\n",
    "    \"name\": \"John\",\n",
    "    \"age\": 30,\n",
    "    \"city\": \"New York\"\n",
    "}\n"
   ]
  },
  {
   "cell_type": "markdown",
   "id": "011a9f49",
   "metadata": {},
   "source": [
    "### 딕셔너리의 기본 연산"
   ]
  },
  {
   "cell_type": "markdown",
   "id": "1d827089",
   "metadata": {},
   "source": [
    "##### 1. 항목 접근 (Accessing Items):"
   ]
  },
  {
   "cell_type": "code",
   "execution_count": 74,
   "id": "578f347c",
   "metadata": {},
   "outputs": [
    {
     "name": "stdout",
     "output_type": "stream",
     "text": [
      "John\n",
      "30\n"
     ]
    }
   ],
   "source": [
    "print(person[\"name\"])  # \"John\"\n",
    "print(person.get(\"age\"))  # 30\n"
   ]
  },
  {
   "cell_type": "markdown",
   "id": "99a81081",
   "metadata": {},
   "source": [
    "##### 2. 항목 추가 및 수정 (Adding and Modifying Items):"
   ]
  },
  {
   "cell_type": "code",
   "execution_count": 75,
   "id": "0af4724e",
   "metadata": {},
   "outputs": [
    {
     "name": "stdout",
     "output_type": "stream",
     "text": [
      "{'name': 'John', 'age': 31, 'city': 'New York', 'email': 'john@example.com'}\n"
     ]
    }
   ],
   "source": [
    "person[\"email\"] = \"john@example.com\"  # 항목 추가\n",
    "person[\"age\"] = 31  # 항목 수정\n",
    "print(person)\n"
   ]
  },
  {
   "cell_type": "markdown",
   "id": "87f830d7",
   "metadata": {},
   "source": [
    "##### 3. 항목 제거 (Removing Items):"
   ]
  },
  {
   "cell_type": "code",
   "execution_count": 76,
   "id": "573dbb75",
   "metadata": {},
   "outputs": [
    {
     "name": "stdout",
     "output_type": "stream",
     "text": [
      "{'name': 'John', 'age': 31, 'email': 'john@example.com'}\n",
      "john@example.com\n",
      "{'name': 'John', 'age': 31}\n",
      "{}\n"
     ]
    }
   ],
   "source": [
    "del person[\"city\"]\n",
    "print(person)\n",
    "\n",
    "email = person.pop(\"email\")\n",
    "print(email)  # \"john@example.com\"\n",
    "print(person)\n",
    "\n",
    "person.clear()\n",
    "print(person)  # {}\n"
   ]
  },
  {
   "cell_type": "markdown",
   "id": "a1a39409",
   "metadata": {},
   "source": [
    "### 딕셔너리의 주요 메소드"
   ]
  },
  {
   "cell_type": "markdown",
   "id": "a97d5e43",
   "metadata": {},
   "source": [
    "##### 1. keys(): 딕셔너리의 모든 키를 반환합니다."
   ]
  },
  {
   "cell_type": "code",
   "execution_count": 78,
   "id": "2afefbeb",
   "metadata": {},
   "outputs": [
    {
     "name": "stdout",
     "output_type": "stream",
     "text": [
      "dict_keys(['name', 'age', 'city'])\n"
     ]
    }
   ],
   "source": [
    "person = {\n",
    "    \"name\": \"John\",\n",
    "    \"age\": 30,\n",
    "    \"city\": \"New York\"\n",
    "}\n",
    "\n",
    "keys = person.keys()\n",
    "print(keys)  # dict_keys(['name', 'age'])\n"
   ]
  },
  {
   "cell_type": "markdown",
   "id": "b74264ec",
   "metadata": {},
   "source": [
    "##### 2. values(): 딕셔너리의 모든 값을 반환합니다."
   ]
  },
  {
   "cell_type": "code",
   "execution_count": 79,
   "id": "0c9285eb",
   "metadata": {},
   "outputs": [
    {
     "name": "stdout",
     "output_type": "stream",
     "text": [
      "dict_values(['John', 30, 'New York'])\n"
     ]
    }
   ],
   "source": [
    "values = person.values()\n",
    "print(values)  # dict_values(['John', 31])\n"
   ]
  },
  {
   "cell_type": "markdown",
   "id": "efc4305c",
   "metadata": {},
   "source": [
    "##### 3. items(): 딕셔너리의 모든 키-값 쌍을 반환합니다."
   ]
  },
  {
   "cell_type": "code",
   "execution_count": 80,
   "id": "bf9e7124",
   "metadata": {},
   "outputs": [
    {
     "name": "stdout",
     "output_type": "stream",
     "text": [
      "dict_items([('name', 'John'), ('age', 30), ('city', 'New York')])\n"
     ]
    }
   ],
   "source": [
    "items = person.items()\n",
    "print(items)  # dict_items([('name', 'John'), ('age', 31)])\n"
   ]
  },
  {
   "cell_type": "markdown",
   "id": "b4defcce",
   "metadata": {},
   "source": [
    "##### 4. update(): 딕셔너리의 항목을 업데이트합니다."
   ]
  },
  {
   "cell_type": "code",
   "execution_count": 81,
   "id": "b422da2e",
   "metadata": {},
   "outputs": [
    {
     "name": "stdout",
     "output_type": "stream",
     "text": [
      "{'name': 'John', 'age': 32, 'city': 'Boston'}\n"
     ]
    }
   ],
   "source": [
    "person.update({\"age\": 32, \"city\": \"Boston\"})\n",
    "print(person)\n"
   ]
  },
  {
   "cell_type": "markdown",
   "id": "c4a638b7",
   "metadata": {},
   "source": [
    "### 딕셔너리 활용 예제\n",
    "\n",
    "- 딕셔너리는 데이터 검색, 추가, 수정에 매우 효율적이며, 다양한 용도로 사용할 수 있습니다. 예를 들어, 특정 조건을 만족하는 항목만을 선택하거나, 데이터를 그룹화하는 데 사용할 수 있습니다."
   ]
  },
  {
   "cell_type": "code",
   "execution_count": 82,
   "id": "8774f676",
   "metadata": {},
   "outputs": [
    {
     "name": "stdout",
     "output_type": "stream",
     "text": [
      "{'Alice': 85, 'Charlie': 90}\n"
     ]
    }
   ],
   "source": [
    "# 예제: 조건을 만족하는 항목 선택\n",
    "students = {\n",
    "    \"Alice\": 85,\n",
    "    \"Bob\": 75,\n",
    "    \"Charlie\": 90\n",
    "}\n",
    "\n",
    "high_scores = {k: v for k, v in students.items() if v > 80} # 딕셔너리 컨프리헨션\n",
    "print(high_scores)  # {'Alice': 85, 'Charlie': 90}\n"
   ]
  },
  {
   "cell_type": "markdown",
   "id": "1f9567f9",
   "metadata": {},
   "source": [
    "#####"
   ]
  },
  {
   "cell_type": "markdown",
   "id": "91cd1d6b",
   "metadata": {},
   "source": [
    "#####"
   ]
  },
  {
   "cell_type": "markdown",
   "id": "ef630c50",
   "metadata": {},
   "source": [
    "#####"
   ]
  },
  {
   "cell_type": "markdown",
   "id": "52c15fd2",
   "metadata": {},
   "source": [
    "### 집합 (Set)\n",
    "\n",
    "1. **정의**: 유일한 요소들의 모음입니다. 중복된 요소가 없으며, 순서가 없습니다.\n",
    "2. **구문**: `{값1, 값2, 값3, ...}` 형태로 선언합니다.\n",
    "3. **특징**:\n",
    "    - **중복 없음**: 중복된 요소가 저장되지 않습니다.\n",
    "    - **순서 없음**: 요소의 순서가 없습니다.\n",
    "    - **빠른 멤버십 테스트**: 특정 요소가 집합에 있는지 빠르게 확인할 수 있습니다.\n",
    "    - **가변성**: 요소를 추가, 삭제할 수 있습니다."
   ]
  },
  {
   "cell_type": "code",
   "execution_count": 96,
   "id": "cdf25fc7",
   "metadata": {},
   "outputs": [
    {
     "name": "stdout",
     "output_type": "stream",
     "text": [
      "{'apple', 'banana', 'cherry'}\n",
      "<class 'set'>\n"
     ]
    }
   ],
   "source": [
    "my_set = {\"apple\", 'banana', \"cherry\", \"cherry\"}\n",
    "\n",
    "print(my_set)\n",
    "print(type(my_set))"
   ]
  },
  {
   "cell_type": "markdown",
   "id": "0b7258fa",
   "metadata": {},
   "source": [
    "### 주요 차이점\n",
    "\n",
    "1. **데이터 저장 방식**:\n",
    "    - **딕셔너리**: 키와 값의 쌍으로 데이터를 저장.\n",
    "    - **집합**: 단순히 유일한 요소들만 저장.\n",
    "2. **접근 방식**:\n",
    "    - **딕셔너리**: 키를 사용하여 값에 접근.\n",
    "    - **집합**: 특정 요소가 집합에 있는지 여부만 확인.\n",
    "3. **용도**:\n",
    "    - **딕셔너리**: 매핑 관계를 유지할 때 유용.\n",
    "    - **집합**: 유일한 값들의 컬렉션을 관리할 때 유용."
   ]
  },
  {
   "cell_type": "code",
   "execution_count": 30,
   "id": "614f02f8",
   "metadata": {},
   "outputs": [
    {
     "name": "stdout",
     "output_type": "stream",
     "text": [
      "Alice\n",
      "True\n",
      "{'name': 'Alice', 'age': 25, 'city': 'New York', 'email': 'nice@aaa.com'}\n",
      "{'apple', 'date', 'cherry', 'banana'}\n"
     ]
    }
   ],
   "source": [
    "# 딕셔너리 예시\n",
    "my_dict = {\"name\": \"Alice\", \"age\": 25, \"city\": \"New York\"}\n",
    "print(my_dict[\"name\"])  # Output: Alice\n",
    "\n",
    "# 집합 예시\n",
    "my_set = {\"apple\", \"banana\", \"cherry\"}\n",
    "print(\"apple\" in my_set)  # Output: True\n",
    "\n",
    "# 딕셔너리에 값 추가\n",
    "my_dict[\"email\"] = \"nice@aaa.com\"\n",
    "print(my_dict)\n",
    "\n",
    "# 집합에 요소 추가\n",
    "my_set.add(\"date\")\n",
    "print(my_set)\n"
   ]
  },
  {
   "cell_type": "code",
   "execution_count": null,
   "id": "276caf18",
   "metadata": {},
   "outputs": [],
   "source": []
  }
 ],
 "metadata": {
  "kernelspec": {
   "display_name": "Python 3 (ipykernel)",
   "language": "python",
   "name": "python3"
  },
  "language_info": {
   "codemirror_mode": {
    "name": "ipython",
    "version": 3
   },
   "file_extension": ".py",
   "mimetype": "text/x-python",
   "name": "python",
   "nbconvert_exporter": "python",
   "pygments_lexer": "ipython3",
   "version": "3.11.7"
  }
 },
 "nbformat": 4,
 "nbformat_minor": 5
}
