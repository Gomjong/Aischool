{
 "cells": [
  {
   "cell_type": "markdown",
   "id": "f3a42d2b",
   "metadata": {},
   "source": [
    "## 어제 기본파이썬 복습"
   ]
  },
  {
   "cell_type": "code",
   "execution_count": 1,
   "id": "a49c2764",
   "metadata": {},
   "outputs": [
    {
     "data": {
      "text/plain": [
       "7"
      ]
     },
     "execution_count": 1,
     "metadata": {},
     "output_type": "execute_result"
    }
   ],
   "source": [
    "def add(a, b):\n",
    "    return a+b\n",
    "\n",
    "add(4,3)"
   ]
  },
  {
   "cell_type": "code",
   "execution_count": 3,
   "id": "91d8c8a9",
   "metadata": {},
   "outputs": [
    {
     "name": "stdout",
     "output_type": "stream",
     "text": [
      "46\n"
     ]
    }
   ],
   "source": [
    "def add_multiply(*values, m=1):\n",
    "    result = 0\n",
    "    for value in values:\n",
    "        result += value\n",
    "    return result * m\n",
    "\n",
    "print(add_multiply(4,3,1,11,4,m=2))\n",
    "\n"
   ]
  },
  {
   "cell_type": "code",
   "execution_count": 35,
   "id": "711e68fe",
   "metadata": {},
   "outputs": [
    {
     "name": "stdout",
     "output_type": "stream",
     "text": [
      "{'a': 10, 'b': 20, 'c': 30} <class 'dict'>\n",
      "23\n"
     ]
    }
   ],
   "source": [
    "def add_multiply(*values, **kwargs):\n",
    "    result = 0\n",
    "    for value in values:\n",
    "        result += value\n",
    "    print(kwargs)\n",
    "    return result\n",
    "\n",
    "\n",
    "print(add_multiply(4,3,1,11,4,a=10,b=20,c=30))"
   ]
  },
  {
   "cell_type": "markdown",
   "id": "2d478677",
   "metadata": {},
   "source": [
    "# 함수 고급편\n",
    "\n",
    "- 튜플, 콜백 함수, 람다, with 구문"
   ]
  },
  {
   "cell_type": "code",
   "execution_count": 9,
   "id": "bc15d420",
   "metadata": {},
   "outputs": [
    {
     "name": "stdout",
     "output_type": "stream",
     "text": [
      "튜플의 전체 (1, 2, 3)\n",
      "튜플의 첫 번째 원소 1\n"
     ]
    }
   ],
   "source": [
    "a = (1, 2, 3)\n",
    "print(\"튜플의 전체\", a)\n",
    "print(\"튜플의 첫 번째 원소\",a[0]) "
   ]
  },
  {
   "cell_type": "code",
   "execution_count": 10,
   "id": "a6dbca1d",
   "metadata": {},
   "outputs": [
    {
     "name": "stdout",
     "output_type": "stream",
     "text": [
      "리스트의 전체 [1, 2, 3]\n",
      "리스트의 첫 번째 원소 1\n"
     ]
    }
   ],
   "source": [
    "# 리스트\n",
    "\n",
    "a = [1, 2, 3]\n",
    "print(\"리스트의 전체\", a)\n",
    "print(\"리스트의 첫 번째 원소\",a[0]) \n"
   ]
  },
  {
   "cell_type": "markdown",
   "id": "35cf8935",
   "metadata": {},
   "source": [
    "### 튜플과 리스트의 차이\n",
    "\n",
    "#### 리스트는 변경이 가능한 자료를 다룰 때 사용\n",
    "- 고객 목록 등\n",
    "\n",
    "#### 튜플은 변경이 불가능한 자료를 다룰 때 사용\n",
    "- 날짜, 시간 등\n"
   ]
  },
  {
   "cell_type": "code",
   "execution_count": 14,
   "id": "049c10a2",
   "metadata": {
    "collapsed": true
   },
   "outputs": [
    {
     "name": "stdout",
     "output_type": "stream",
     "text": [
      "[4, 2, 3, 5]\n"
     ]
    },
    {
     "ename": "AttributeError",
     "evalue": "'tuple' object has no attribute 'append'",
     "output_type": "error",
     "traceback": [
      "\u001b[1;31m---------------------------------------------------------------------------\u001b[0m",
      "\u001b[1;31mAttributeError\u001b[0m                            Traceback (most recent call last)",
      "Cell \u001b[1;32mIn[14], line 10\u001b[0m\n\u001b[0;32m      7\u001b[0m list_a\u001b[38;5;241m.\u001b[39mappend(\u001b[38;5;241m5\u001b[39m)\n\u001b[0;32m      8\u001b[0m \u001b[38;5;28mprint\u001b[39m(list_a)\n\u001b[1;32m---> 10\u001b[0m tuple_a\u001b[38;5;241m.\u001b[39mappend(\u001b[38;5;241m5\u001b[39m) \u001b[38;5;66;03m# append 속성이 없음 (추가할수없다)\u001b[39;00m\n\u001b[0;32m     11\u001b[0m tuple_a[\u001b[38;5;241m0\u001b[39m] \u001b[38;5;241m=\u001b[39m \u001b[38;5;241m4\u001b[39m \u001b[38;5;66;03m# TypeError 수정이 안돼\u001b[39;00m\n\u001b[0;32m     12\u001b[0m \u001b[38;5;28mprint\u001b[39m(tuple_a)\n",
      "\u001b[1;31mAttributeError\u001b[0m: 'tuple' object has no attribute 'append'"
     ]
    }
   ],
   "source": [
    "tuple_a = (1,2,3)\n",
    "list_a = [1,2,3]\n",
    "\n",
    "# 리스트는 변경이 가능한 반면, 튜플은 변경이 불가능\n",
    "\n",
    "list_a[0] = 4\n",
    "list_a.append(5)\n",
    "print(list_a)\n",
    "\n",
    "tuple_a.append(5) # append 속성이 없음 (추가할수없다)\n",
    "tuple_a[0] = 4 # TypeError 수정이 안돼\n",
    "print(tuple_a)\n",
    "\n",
    "# 추가, 튜플의 교환\n",
    "\n",
    "a, b = 100, 200\n",
    "\n",
    "#temp = a\n",
    "# a = b\n",
    "# b = temp 이런식인데 python은\n",
    "\n",
    "a, b = b, a # 튜플로 가능\n"
   ]
  },
  {
   "cell_type": "code",
   "execution_count": 37,
   "id": "1b94f1ed",
   "metadata": {},
   "outputs": [
    {
     "name": "stdout",
     "output_type": "stream",
     "text": [
      "(1, 'Hello', 3.14)\n",
      "(1, (2, 3), 4)\n",
      "2\n",
      "2\n"
     ]
    }
   ],
   "source": [
    "my_tuple = (1, \"Hello\", 3.14)\n",
    "print(my_tuple)\n",
    "\n",
    "my_tuple2 = (1, (2, 3), 4)\n",
    "print(my_tuple2)\n",
    "\n",
    "my_tuple = (1, 2, 3, 2)\n",
    "print(my_tuple.count(2))  # 출력: 2\n",
    "print(my_tuple.index(3))  # 출력: 2"
   ]
  },
  {
   "cell_type": "code",
   "execution_count": 38,
   "id": "192dd181",
   "metadata": {},
   "outputs": [
    {
     "name": "stdout",
     "output_type": "stream",
     "text": [
      "[10, 2, 3]\n",
      "10\n",
      "[1, 'Hello', 3.14]\n",
      "[1, [2, 3], 4]\n"
     ]
    }
   ],
   "source": [
    "my_list = [1, 2, 3]\n",
    "my_list[0] = 10\n",
    "print(my_list)\n",
    "print(my_list[0])\n",
    "\n",
    "my_list2 = [1, \"Hello\", 3.14]\n",
    "print(my_list2)\n",
    "\n",
    "my_list3 = [1, [2, 3], 4]\n",
    "print(my_list3)  "
   ]
  },
  {
   "cell_type": "code",
   "execution_count": 39,
   "id": "73ed6592",
   "metadata": {},
   "outputs": [
    {
     "name": "stdout",
     "output_type": "stream",
     "text": [
      "[3, 1, 2, 4]\n",
      "[1, 2, 3, 4]\n",
      "[1, 3, 4]\n",
      "4\n",
      "[1, 3]\n"
     ]
    }
   ],
   "source": [
    "my_list = [3, 1, 2]\n",
    "my_list.append(4)\n",
    "print(my_list)  \n",
    "my_list.sort()\n",
    "print(my_list) \n",
    "\n",
    "my_list.remove(2)\n",
    "print(my_list)  \n",
    "\n",
    "popped_item = my_list.pop()\n",
    "print(popped_item)  \n",
    "print(my_list)  "
   ]
  },
  {
   "cell_type": "code",
   "execution_count": 18,
   "id": "de0c7025",
   "metadata": {},
   "outputs": [
    {
     "name": "stdout",
     "output_type": "stream",
     "text": [
      "<class 'tuple'>\n",
      "values의 타입은 <class 'tuple'>\n",
      "<class 'tuple'>\n"
     ]
    }
   ],
   "source": [
    "#튜플과 함수\n",
    "\n",
    "def return_all(a, b, c):\n",
    "    return a, b, c\n",
    "\n",
    "print(type(return_all(10, 20, 30)))\n",
    "\n",
    "def return_all(*values):\n",
    "    print(f'values의 타입은 {type(values)}')\n",
    "    \n",
    "    return values\n",
    "\n",
    "print(type(return_all(10, 20, 30)))\n",
    "\n"
   ]
  },
  {
   "cell_type": "code",
   "execution_count": 40,
   "id": "eefd1d44",
   "metadata": {},
   "outputs": [
    {
     "name": "stdout",
     "output_type": "stream",
     "text": [
      "[0, 1, 4, 9, 16]\n"
     ]
    }
   ],
   "source": [
    "squares = [x**2 for x in range(5)]\n",
    "print(squares)"
   ]
  },
  {
   "cell_type": "markdown",
   "id": "a373e8d8",
   "metadata": {},
   "source": [
    "## 콜백 함수와 람다\n",
    "\n",
    "- 콜백함수 : 함수의 매개변수에 사용하는 함수\n"
   ]
  },
  {
   "cell_type": "code",
   "execution_count": 20,
   "id": "fdd54df9",
   "metadata": {
    "scrolled": true
   },
   "outputs": [
    {
     "name": "stdout",
     "output_type": "stream",
     "text": [
      "안녕하세요\n",
      "안녕하세요\n",
      "안녕하세요\n",
      "안녕하세요\n",
      "안녕하세요\n",
      "안녕하세요\n",
      "안녕하세요\n",
      "안녕하세요\n",
      "안녕하세요\n",
      "안녕하세요\n"
     ]
    }
   ],
   "source": [
    "def call_10_times(func):\n",
    "    for i in range(10):\n",
    "        func()\n",
    "\n",
    "def print_hello():\n",
    "    print(\"안녕하세요\")\n",
    "    \n",
    "call_10_times(print_hello)"
   ]
  },
  {
   "cell_type": "code",
   "execution_count": 42,
   "id": "54e012c4",
   "metadata": {},
   "outputs": [
    {
     "name": "stdout",
     "output_type": "stream",
     "text": [
      "Collecting asyncio\n",
      "  Downloading asyncio-3.4.3-py3-none-any.whl.metadata (1.7 kB)\n",
      "Downloading asyncio-3.4.3-py3-none-any.whl (101 kB)\n",
      "   ---------------------------------------- 0.0/101.8 kB ? eta -:--:--\n",
      "   ------------ --------------------------- 30.7/101.8 kB 1.3 MB/s eta 0:00:01\n",
      "   ---------------------------------------- 101.8/101.8 kB 1.5 MB/s eta 0:00:00\n",
      "Installing collected packages: asyncio\n",
      "Successfully installed asyncio-3.4.3\n",
      "Note: you may need to restart the kernel to use updated packages.\n"
     ]
    }
   ],
   "source": [
    "pip install asyncio"
   ]
  },
  {
   "cell_type": "code",
   "execution_count": 1,
   "id": "b660b09e",
   "metadata": {
    "scrolled": true
   },
   "outputs": [
    {
     "ename": "RuntimeError",
     "evalue": "asyncio.run() cannot be called from a running event loop",
     "output_type": "error",
     "traceback": [
      "\u001b[1;31m---------------------------------------------------------------------------\u001b[0m",
      "\u001b[1;31mRuntimeError\u001b[0m                              Traceback (most recent call last)",
      "Cell \u001b[1;32mIn[1], line 10\u001b[0m\n\u001b[0;32m      7\u001b[0m \u001b[38;5;28;01mdef\u001b[39;00m \u001b[38;5;21mcallback\u001b[39m():\n\u001b[0;32m      8\u001b[0m     \u001b[38;5;28mprint\u001b[39m(\u001b[38;5;124m\"\u001b[39m\u001b[38;5;124mAsync operation is completed.\u001b[39m\u001b[38;5;124m\"\u001b[39m)\n\u001b[1;32m---> 10\u001b[0m asyncio\u001b[38;5;241m.\u001b[39mrun(async_operation(callback))\n",
      "File \u001b[1;32m~\\anaconda3\\Lib\\asyncio\\runners.py:186\u001b[0m, in \u001b[0;36mrun\u001b[1;34m(main, debug)\u001b[0m\n\u001b[0;32m    161\u001b[0m \u001b[38;5;250m\u001b[39m\u001b[38;5;124;03m\"\"\"Execute the coroutine and return the result.\u001b[39;00m\n\u001b[0;32m    162\u001b[0m \n\u001b[0;32m    163\u001b[0m \u001b[38;5;124;03mThis function runs the passed coroutine, taking care of\u001b[39;00m\n\u001b[1;32m   (...)\u001b[0m\n\u001b[0;32m    182\u001b[0m \u001b[38;5;124;03m    asyncio.run(main())\u001b[39;00m\n\u001b[0;32m    183\u001b[0m \u001b[38;5;124;03m\"\"\"\u001b[39;00m\n\u001b[0;32m    184\u001b[0m \u001b[38;5;28;01mif\u001b[39;00m events\u001b[38;5;241m.\u001b[39m_get_running_loop() \u001b[38;5;129;01mis\u001b[39;00m \u001b[38;5;129;01mnot\u001b[39;00m \u001b[38;5;28;01mNone\u001b[39;00m:\n\u001b[0;32m    185\u001b[0m     \u001b[38;5;66;03m# fail fast with short traceback\u001b[39;00m\n\u001b[1;32m--> 186\u001b[0m     \u001b[38;5;28;01mraise\u001b[39;00m \u001b[38;5;167;01mRuntimeError\u001b[39;00m(\n\u001b[0;32m    187\u001b[0m         \u001b[38;5;124m\"\u001b[39m\u001b[38;5;124masyncio.run() cannot be called from a running event loop\u001b[39m\u001b[38;5;124m\"\u001b[39m)\n\u001b[0;32m    189\u001b[0m \u001b[38;5;28;01mwith\u001b[39;00m Runner(debug\u001b[38;5;241m=\u001b[39mdebug) \u001b[38;5;28;01mas\u001b[39;00m runner:\n\u001b[0;32m    190\u001b[0m     \u001b[38;5;28;01mreturn\u001b[39;00m runner\u001b[38;5;241m.\u001b[39mrun(main)\n",
      "\u001b[1;31mRuntimeError\u001b[0m: asyncio.run() cannot be called from a running event loop"
     ]
    }
   ],
   "source": [
    "import asyncio\n",
    "\n",
    "async def async_operation(callback):\n",
    "    await asyncio.sleep(1)\n",
    "    callback()\n",
    "\n",
    "def callback():\n",
    "    print(\"Async operation is completed.\")\n",
    "\n",
    "asyncio.run(async_operation(callback))"
   ]
  },
  {
   "cell_type": "code",
   "execution_count": 2,
   "id": "3ef61e72",
   "metadata": {},
   "outputs": [
    {
     "ename": "RuntimeError",
     "evalue": "This event loop is already running",
     "output_type": "error",
     "traceback": [
      "\u001b[1;31m---------------------------------------------------------------------------\u001b[0m",
      "\u001b[1;31mRuntimeError\u001b[0m                              Traceback (most recent call last)",
      "Cell \u001b[1;32mIn[2], line 13\u001b[0m\n\u001b[0;32m     11\u001b[0m loop \u001b[38;5;241m=\u001b[39m asyncio\u001b[38;5;241m.\u001b[39mget_event_loop()\n\u001b[0;32m     12\u001b[0m \u001b[38;5;66;03m# 비동기 작업 실행\u001b[39;00m\n\u001b[1;32m---> 13\u001b[0m loop\u001b[38;5;241m.\u001b[39mrun_until_complete(async_operation(callback))\n",
      "File \u001b[1;32m~\\anaconda3\\Lib\\asyncio\\base_events.py:629\u001b[0m, in \u001b[0;36mBaseEventLoop.run_until_complete\u001b[1;34m(self, future)\u001b[0m\n\u001b[0;32m    618\u001b[0m \u001b[38;5;250m\u001b[39m\u001b[38;5;124;03m\"\"\"Run until the Future is done.\u001b[39;00m\n\u001b[0;32m    619\u001b[0m \n\u001b[0;32m    620\u001b[0m \u001b[38;5;124;03mIf the argument is a coroutine, it is wrapped in a Task.\u001b[39;00m\n\u001b[1;32m   (...)\u001b[0m\n\u001b[0;32m    626\u001b[0m \u001b[38;5;124;03mReturn the Future's result, or raise its exception.\u001b[39;00m\n\u001b[0;32m    627\u001b[0m \u001b[38;5;124;03m\"\"\"\u001b[39;00m\n\u001b[0;32m    628\u001b[0m \u001b[38;5;28mself\u001b[39m\u001b[38;5;241m.\u001b[39m_check_closed()\n\u001b[1;32m--> 629\u001b[0m \u001b[38;5;28mself\u001b[39m\u001b[38;5;241m.\u001b[39m_check_running()\n\u001b[0;32m    631\u001b[0m new_task \u001b[38;5;241m=\u001b[39m \u001b[38;5;129;01mnot\u001b[39;00m futures\u001b[38;5;241m.\u001b[39misfuture(future)\n\u001b[0;32m    632\u001b[0m future \u001b[38;5;241m=\u001b[39m tasks\u001b[38;5;241m.\u001b[39mensure_future(future, loop\u001b[38;5;241m=\u001b[39m\u001b[38;5;28mself\u001b[39m)\n",
      "File \u001b[1;32m~\\anaconda3\\Lib\\asyncio\\base_events.py:588\u001b[0m, in \u001b[0;36mBaseEventLoop._check_running\u001b[1;34m(self)\u001b[0m\n\u001b[0;32m    586\u001b[0m \u001b[38;5;28;01mdef\u001b[39;00m \u001b[38;5;21m_check_running\u001b[39m(\u001b[38;5;28mself\u001b[39m):\n\u001b[0;32m    587\u001b[0m     \u001b[38;5;28;01mif\u001b[39;00m \u001b[38;5;28mself\u001b[39m\u001b[38;5;241m.\u001b[39mis_running():\n\u001b[1;32m--> 588\u001b[0m         \u001b[38;5;28;01mraise\u001b[39;00m \u001b[38;5;167;01mRuntimeError\u001b[39;00m(\u001b[38;5;124m'\u001b[39m\u001b[38;5;124mThis event loop is already running\u001b[39m\u001b[38;5;124m'\u001b[39m)\n\u001b[0;32m    589\u001b[0m     \u001b[38;5;28;01mif\u001b[39;00m events\u001b[38;5;241m.\u001b[39m_get_running_loop() \u001b[38;5;129;01mis\u001b[39;00m \u001b[38;5;129;01mnot\u001b[39;00m \u001b[38;5;28;01mNone\u001b[39;00m:\n\u001b[0;32m    590\u001b[0m         \u001b[38;5;28;01mraise\u001b[39;00m \u001b[38;5;167;01mRuntimeError\u001b[39;00m(\n\u001b[0;32m    591\u001b[0m             \u001b[38;5;124m'\u001b[39m\u001b[38;5;124mCannot run the event loop while another loop is running\u001b[39m\u001b[38;5;124m'\u001b[39m)\n",
      "\u001b[1;31mRuntimeError\u001b[0m: This event loop is already running"
     ]
    }
   ],
   "source": [
    "import asyncio\n",
    "\n",
    "async def async_operation(callback):\n",
    "    await asyncio.sleep(1)\n",
    "    callback()\n",
    "\n",
    "def callback():\n",
    "    print(\"Async operation is completed.\")\n",
    "\n",
    "# 새로운 이벤트 루프 생성\n",
    "loop = asyncio.get_event_loop()\n",
    "# 비동기 작업 실행\n",
    "loop.run_until_complete(async_operation(callback))"
   ]
  },
  {
   "cell_type": "code",
   "execution_count": 3,
   "id": "bb1b2e6c",
   "metadata": {},
   "outputs": [
    {
     "name": "stdout",
     "output_type": "stream",
     "text": [
      "Note: you may need to restart the kernel to use updated packages.\n"
     ]
    },
    {
     "name": "stderr",
     "output_type": "stream",
     "text": [
      "ERROR: Could not find a version that satisfies the requirement tkinter (from versions: none)\n",
      "ERROR: No matching distribution found for tkinter\n"
     ]
    }
   ],
   "source": [
    "pip install tkinter"
   ]
  },
  {
   "cell_type": "code",
   "execution_count": null,
   "id": "0083a4d1",
   "metadata": {},
   "outputs": [
    {
     "name": "stdout",
     "output_type": "stream",
     "text": [
      "Button is clicked.\n",
      "Button is clicked.\n",
      "Button is clicked.\n",
      "Button is clicked.\n"
     ]
    }
   ],
   "source": [
    "import tkinter as tk\n",
    "\n",
    "def button_click():\n",
    "    print(\"Button is clicked.\")\n",
    "\n",
    "root = tk.Tk()\n",
    "button = tk.Button(root, text=\"Click me\", command=button_click)\n",
    "button.pack()\n",
    "root.mainloop()"
   ]
  },
  {
   "cell_type": "code",
   "execution_count": 28,
   "id": "86d1e204",
   "metadata": {},
   "outputs": [
    {
     "name": "stdout",
     "output_type": "stream",
     "text": [
      "<map object at 0x0000022EFBA8F640>\n",
      "[1, 4, 9, 16, 25]\n",
      "[1, 4, 9, 16, 25]\n"
     ]
    }
   ],
   "source": [
    "# 고차 함수\n",
    "# map(함수, 리스트)\n",
    "\n",
    "def power(item):\n",
    "    return item*item\n",
    "\n",
    "def under_3(item):\n",
    "    return item<3\n",
    "\n",
    "list_input_a = [1, 2, 3, 4, 5]\n",
    "\n",
    "output_a = map(power, list_input_a) # [1, 4, 9, 16, 25]\n",
    "output_b = filter(under_3, list_input_a)\n",
    "\n",
    "print(output_a)\n",
    "print(list(output_a))\n",
    "\n",
    "# 리스트 컨프리헨션\n",
    "\n",
    "print([power(x) for x in list_input_a])"
   ]
  },
  {
   "cell_type": "code",
   "execution_count": 33,
   "id": "9878aa8b",
   "metadata": {},
   "outputs": [
    {
     "name": "stdout",
     "output_type": "stream",
     "text": [
      "hahahahhahaa ang nice tv\n"
     ]
    }
   ],
   "source": [
    "# with 함수 (파일 열고 작업)\n",
    "\n",
    "with open('nice.txt', 'r') as file:\n",
    "    contents = file.read()\n",
    "\n",
    "print(contents)"
   ]
  },
  {
   "cell_type": "code",
   "execution_count": 34,
   "id": "ffcd049f",
   "metadata": {},
   "outputs": [
    {
     "name": "stdout",
     "output_type": "stream",
     "text": [
      "hahahahhahaa ang nice tv\n"
     ]
    }
   ],
   "source": [
    "# with 함수 (파일 열고 작업)\n",
    "\n",
    "with open('nice.txt', 'w') as file:\n",
    "    file.write(\"ang ang ang\")\n",
    "    #contents = file.read()\n",
    "\n",
    "print(contents)"
   ]
  },
  {
   "cell_type": "code",
   "execution_count": 36,
   "id": "2069f446",
   "metadata": {},
   "outputs": [
    {
     "name": "stdout",
     "output_type": "stream",
     "text": [
      "(8, 15)\n"
     ]
    }
   ],
   "source": [
    "def add_and_multiply(a, b):\n",
    "    return a+b, a*b\n",
    "\n",
    "# 함수를 호출하고 결과를 출력하세요\n",
    "result = add_and_multiply(5, 3)\n",
    "print(result)  # 출력: (8, 15)"
   ]
  },
  {
   "cell_type": "code",
   "execution_count": 38,
   "id": "0d6d576e",
   "metadata": {},
   "outputs": [
    {
     "name": "stdout",
     "output_type": "stream",
     "text": [
      "8\n"
     ]
    }
   ],
   "source": [
    "def apply_callback(a, b, add):\n",
    "    return add(a, b)\n",
    "    \n",
    "# 예시 콜백 함수\n",
    "def add(a, b):\n",
    "    return a + b\n",
    "\n",
    "# 함수를 호출하고 결과를 출력하세요\n",
    "result = apply_callback(5, 3, add)\n",
    "print(result)  # 출력: 8"
   ]
  },
  {
   "cell_type": "code",
   "execution_count": 39,
   "id": "fd819b01",
   "metadata": {},
   "outputs": [
    {
     "name": "stdout",
     "output_type": "stream",
     "text": [
      "8\n"
     ]
    }
   ],
   "source": [
    "sum_lambda = lambda a, b : a + b\n",
    "\n",
    "\n",
    "# 람다 함수를 호출하고 결과를 출력하세요\n",
    "result = sum_lambda(5, 3)\n",
    "print(result)  # 출력: 8"
   ]
  },
  {
   "cell_type": "code",
   "execution_count": 40,
   "id": "4fda0175",
   "metadata": {},
   "outputs": [
    {
     "name": "stdout",
     "output_type": "stream",
     "text": [
      "15\n"
     ]
    }
   ],
   "source": [
    "def higher_order_function(a, b, func):\n",
    "    return multiply(a, b)\n",
    "    # 함수를 두 숫자에 적용한 결과를 반환하는 코드를 작성하세요\n",
    "\n",
    "# 예시 함수\n",
    "def multiply(a, b):\n",
    "    return a * b\n",
    "\n",
    "# 고차 함수를 호출하고 결과를 출력하세요\n",
    "result = higher_order_function(5, 3, multiply)\n",
    "print(result)  # 출력: 15\n"
   ]
  },
  {
   "cell_type": "code",
   "execution_count": 50,
   "id": "a7cc0dfc",
   "metadata": {},
   "outputs": [
    {
     "name": "stdout",
     "output_type": "stream",
     "text": [
      "ang nice tv\n"
     ]
    }
   ],
   "source": [
    "def write_to_file(filename, content):\n",
    "    with open('nice.txt', 'w') as file:\n",
    "        file.write(content)\n",
    "    # 파일에 문자열을 쓰는 코드를 작성하세요\n",
    "\n",
    "# 함수를 호출하고 결과를 출력하세요\n",
    "write_to_file('nice.txt', 'ang nice tv')\n",
    "\n",
    "with open('nice.txt', 'r') as file:\n",
    "    print(file.read())"
   ]
  },
  {
   "cell_type": "code",
   "execution_count": 51,
   "id": "b6e4abe2",
   "metadata": {},
   "outputs": [
    {
     "name": "stdout",
     "output_type": "stream",
     "text": [
      "hahahahhahaa ang nice tv\n"
     ]
    }
   ],
   "source": [
    "# with 함수 (파일 열고 작업)\n",
    "\n",
    "with open('nice.txt', 'w') as file:\n",
    "    file.write(\"ang ang ang\")\n",
    "    #contents = file.read()\n",
    "\n",
    "print(contents)"
   ]
  },
  {
   "cell_type": "markdown",
   "id": "5e366eee",
   "metadata": {},
   "source": [
    "## 책 실습 문제"
   ]
  },
  {
   "cell_type": "code",
   "execution_count": 60,
   "id": "3d8f0cfe",
   "metadata": {},
   "outputs": [
    {
     "name": "stdout",
     "output_type": "stream",
     "text": [
      "1::2::3::4::5::6\n",
      "홀수만 추출\n",
      "[1, 3, 5, 7, 9]\n"
     ]
    }
   ],
   "source": [
    "# 1. 빈칸을 채워서 실행 결과처럼 출력 되도록 만들어라\n",
    "\n",
    "number = [1, 2, 3, 4, 5, 6]\n",
    "\n",
    "print(\"::\".join(list(map(str,number)))) # map을 활용하여 한번에 형변환\n",
    "\n",
    "\n",
    "# 2. 빈칸을 채워서 실행 결과처럼 출력 되도록 만들어라\n",
    "\n",
    "numbers = list(range(1, 10 +1))\n",
    "\n",
    "print(\"홀수만 추출\")\n",
    "print(list(filter(lambda x : x%2 == 1, numbers)))"
   ]
  },
  {
   "cell_type": "markdown",
   "id": "8738d846",
   "metadata": {},
   "source": [
    "## 파이썬 모듈 불러오기\n",
    "- import"
   ]
  },
  {
   "cell_type": "code",
   "execution_count": 87,
   "id": "3bc961f3",
   "metadata": {},
   "outputs": [
    {
     "name": "stdout",
     "output_type": "stream",
     "text": [
      "7\n"
     ]
    }
   ],
   "source": [
    "import import_ipynb\n",
    "\n",
    "#from my_module import plus\n",
    "\n",
    "x = plus(3,4)\n",
    "print(x)"
   ]
  },
  {
   "cell_type": "code",
   "execution_count": 86,
   "id": "35dad41d",
   "metadata": {},
   "outputs": [
    {
     "name": "stdout",
     "output_type": "stream",
     "text": [
      "^C\n",
      "Note: you may need to restart the kernel to use updated packages.\n"
     ]
    }
   ],
   "source": [
    "pip install import_ipynb"
   ]
  },
  {
   "cell_type": "code",
   "execution_count": 2,
   "id": "84432bd8",
   "metadata": {
    "scrolled": true
   },
   "outputs": [
    {
     "name": "stdout",
     "output_type": "stream",
     "text": [
      "importing Jupyter notebook from calculator.ipynb\n",
      "10 + 5 = 15\n",
      "10 - 5 = 5\n",
      "10 * 5 = 50\n",
      "10 / 5 = 2.0\n",
      "0이 포함되어있습니다. 다시 시도하세요,\n",
      "2^3 = 8\n",
      "sqrt(9) = 3.0\n",
      "입력된 수가 음수 입니다,\n"
     ]
    }
   ],
   "source": [
    "import import_ipynb\n",
    "import calculator\n",
    "\n",
    "def main():\n",
    "    # 더하기 예시\n",
    "    result = calculator.add(10, 5)\n",
    "    print(f\"10 + 5 = {result}\")\n",
    "\n",
    "    # 빼기 예시\n",
    "    result = calculator.subtract(10, 5)\n",
    "    print(f\"10 - 5 = {result}\")\n",
    "\n",
    "    # 곱하기 예시\n",
    "    result = calculator.multiply(10, 5)\n",
    "    print(f\"10 * 5 = {result}\")\n",
    "\n",
    "    # 나누기 예시\n",
    "    result = calculator.divide(10, 5)\n",
    "    print(f\"10 / 5 = {result}\")\n",
    "\n",
    "    # 0으로 나누기 예시\n",
    "    result = calculator.divide(10, 0)\n",
    "    if result is not None:\n",
    "        print(f\"10 / 0 = {result}\")\n",
    "\n",
    "    # 거듭제곱 예시\n",
    "    result = calculator.power(2, 3)\n",
    "    print(f\"2^3 = {result}\")\n",
    "\n",
    "    # 제곱근 예시\n",
    "    result = calculator.sqrt(9)\n",
    "    print(f\"sqrt(9) = {result}\")\n",
    "\n",
    "    # 음수의 제곱근 예시\n",
    "    result = calculator.sqrt(-9)\n",
    "    if result is not None:\n",
    "        print(f\"sqrt(-9) = {result}\")\n",
    "\n",
    "if __name__ == \"__main__\":\n",
    "    main()"
   ]
  },
  {
   "cell_type": "markdown",
   "id": "710c78a8",
   "metadata": {},
   "source": [
    "## 객체"
   ]
  },
  {
   "cell_type": "code",
   "execution_count": 16,
   "id": "c2386531",
   "metadata": {
    "scrolled": true
   },
   "outputs": [
    {
     "name": "stdout",
     "output_type": "stream",
     "text": [
      "나는 윤강이고, 26이다. 내 꿈은 정치인이고, 그걸 위해 취미로LostArk를 하고있다\n",
      "쩝접접저ㅃ쩝접쩝쩝(개시끄러움)\n",
      "아 힘들어\n",
      "내꿈은 로스트아크 장인 내 롤모델은 눈가루\n"
     ]
    }
   ],
   "source": [
    "class Human:\n",
    "    # 필드 (성질, 속성)\n",
    "    def __init__(self, age, name, dream, hobby):\n",
    "        self.age = age\n",
    "        self.name = name\n",
    "        self.dream = dream\n",
    "        self.hobby = hobby\n",
    "        \n",
    "    # 매서드 (행동)\n",
    "    def eat(self):\n",
    "        print(\"쩝접접저ㅃ쩝접쩝쩝(개시끄러움)\")\n",
    "        \n",
    "        \n",
    "    def introduce(self):\n",
    "        print(f\"나는 {self.name}이고, {self.age}이다. 내 꿈은 {self.dream}이고, 그걸 위해 취미로{self.hobby}를 하고있다\")\n",
    "\n",
    "    def exercise(self):\n",
    "        print(\"아 힘들어\")\n",
    "    def talk_hobby(self):\n",
    "        print(\"내꿈은 로스트아크 장인 내 롤모델은 눈가루\")\n",
    "        \n",
    "yoongang = Human(age = 26, name = \"윤강\", dream = \"정치인\", hobby = \"LostArk\")\n",
    "\n",
    "yoongang.introduce()\n",
    "yoongang.eat()\n",
    "yoongang.exercise()\n",
    "yoongang.talk_hobby()"
   ]
  },
  {
   "cell_type": "code",
   "execution_count": 33,
   "id": "01ee5b9a",
   "metadata": {
    "scrolled": true
   },
   "outputs": [
    {
     "ename": "IndentationError",
     "evalue": "expected an indented block after function definition on line 22 (1522493148.py, line 26)",
     "output_type": "error",
     "traceback": [
      "\u001b[1;36m  Cell \u001b[1;32mIn[33], line 26\u001b[1;36m\u001b[0m\n\u001b[1;33m    class SavingsAccount(BankAccount):\u001b[0m\n\u001b[1;37m                                      ^\u001b[0m\n\u001b[1;31mIndentationError\u001b[0m\u001b[1;31m:\u001b[0m expected an indented block after function definition on line 22\n"
     ]
    }
   ],
   "source": [
    "# 실습\n",
    "\n",
    "# 기본 은행 계좌 클래스\n",
    "class BankAccount:\n",
    "    acount_log = []\n",
    "    \n",
    "    def __init__(self, owner, balance):\n",
    "        self.owner = owner\n",
    "        self.balance = balance\n",
    "        print(f\"계좌 주인 = {owner}, 잔액 = {balance} \")\n",
    "        \n",
    "    def deposit(self, deposit_money):\n",
    "        self.balance += deposit_money\n",
    "        return self.balance\n",
    "        \n",
    "    def withdraw(self, withdraw_money):\n",
    "        if self.balance < withdraw_money:\n",
    "            print(\"Insufficient funds\")\n",
    "        else:\n",
    "            self.balance -= withdraw_money\n",
    "            return self.balance\n",
    "    def get_logs(self):\n",
    "        \n",
    "            \n",
    "# 저축 계좌 클래스 (이자 기능 추가)\n",
    "class SavingsAccount(BankAccount):\n",
    "    def add_interest(self, interest_rate):\n",
    "        self.balance = self.balance + self.balance*interest_rate\n",
    "        return self.balance\n",
    "    \n",
    "# 당좌 계좌 클래스 (오버드래프트 기능 추가)\n",
    "class CheckingAccount(BankAccount):\n",
    "    def __init__(self, owner, balance, overdraft_limit):\n",
    "        self.owner = owner\n",
    "        self.balance = balance\n",
    "        self.overdraft_limit = overdraft_limit\n",
    "        \n",
    "    def withdraw(self, withdraw_money):\n",
    "        if self.balance < withdraw_money:\n",
    "            print(\"Insufficient funds, overdraft limit reached\")\n",
    "        else:\n",
    "            self.balance -= withdraw_money\n",
    "            return self.balance\n",
    "        \n",
    "\n",
    "# 예시 실행\n",
    "acc = BankAccount(\"Charlie\", 500)\n",
    "print(acc)\n",
    "print(acc.deposit(100))\n",
    "print(acc.withdraw(200))\n",
    "print(acc.withdraw(500))\n",
    "\n",
    "acc1 = SavingsAccount(\"Alice\", 1000)\n",
    "acc1.add_interest(0.05)\n",
    "print(acc1)\n",
    "\n",
    "acc2 = CheckingAccount(\"Bob\", 500, 200)\n",
    "print(acc2.withdraw(600))\n",
    "print(acc2)\n",
    "\n"
   ]
  },
  {
   "cell_type": "code",
   "execution_count": 34,
   "id": "1a77f77d",
   "metadata": {},
   "outputs": [
    {
     "name": "stdout",
     "output_type": "stream",
     "text": [
      "계좌 주인 = Charlie, 잔액 = 500 \n",
      "600\n",
      "400\n",
      "Insufficient funds\n",
      "None\n",
      "['Deposit: +100, New Balance: 600', 'Withdraw: -200, New Balance: 400']\n",
      "계좌 주인 = Alice, 잔액 = 1000 \n",
      "['Interest: +50.0, New Balance: 1050.0']\n",
      "계좌 주인 = Bob, 잔액 = 500 \n",
      "-100\n",
      "Insufficient funds, overdraft limit reached\n",
      "None\n",
      "['Withdraw: -600, New Balance: -100']\n"
     ]
    }
   ],
   "source": [
    "# 기본 은행 계좌 클래스\n",
    "class BankAccount:\n",
    "    def __init__(self, owner, balance):\n",
    "        self.owner = owner\n",
    "        self.balance = balance\n",
    "        self.account_log = []  # 인스턴스 속성으로 로그 초기화\n",
    "        print(f\"계좌 주인 = {owner}, 잔액 = {balance} \")\n",
    "        \n",
    "    def deposit(self, deposit_money):\n",
    "        self.balance += deposit_money\n",
    "        self.account_log.append(f\"Deposit: +{deposit_money}, New Balance: {self.balance}\")\n",
    "        return self.balance\n",
    "        \n",
    "    def withdraw(self, withdraw_money):\n",
    "        if self.balance < withdraw_money:\n",
    "            print(\"Insufficient funds\")\n",
    "        else:\n",
    "            self.balance -= withdraw_money\n",
    "            self.account_log.append(f\"Withdraw: -{withdraw_money}, New Balance: {self.balance}\")\n",
    "            return self.balance\n",
    "\n",
    "    def get_logs(self):\n",
    "        return self.account_log\n",
    "        \n",
    "# 저축 계좌 클래스 (이자 기능 추가)\n",
    "class SavingsAccount(BankAccount):\n",
    "    def add_interest(self, interest_rate):\n",
    "        interest = self.balance * interest_rate\n",
    "        self.balance += interest\n",
    "        self.account_log.append(f\"Interest: +{interest}, New Balance: {self.balance}\")\n",
    "        return self.balance\n",
    "    \n",
    "# 당좌 계좌 클래스 (오버드래프트 기능 추가)\n",
    "class CheckingAccount(BankAccount):\n",
    "    def __init__(self, owner, balance, overdraft_limit):\n",
    "        super().__init__(owner, balance)  # 부모 클래스의 초기화 메서드 호출\n",
    "        self.overdraft_limit = overdraft_limit\n",
    "        \n",
    "    def withdraw(self, withdraw_money):\n",
    "        if self.balance + self.overdraft_limit < withdraw_money:\n",
    "            print(\"Insufficient funds, overdraft limit reached\")\n",
    "        else:\n",
    "            self.balance -= withdraw_money\n",
    "            self.account_log.append(f\"Withdraw: -{withdraw_money}, New Balance: {self.balance}\")\n",
    "            return self.balance\n",
    "\n",
    "# 예시 실행\n",
    "acc = BankAccount(\"Charlie\", 500)\n",
    "print(acc.deposit(100))  # 600\n",
    "print(acc.withdraw(200))  # 400\n",
    "print(acc.withdraw(500))  # Insufficient funds\n",
    "print(acc.get_logs())  # 로그 출력\n",
    "\n",
    "acc1 = SavingsAccount(\"Alice\", 1000)\n",
    "acc1.add_interest(0.05)  # 1050.0\n",
    "print(acc1.get_logs())  # 로그 출력\n",
    "\n",
    "acc2 = CheckingAccount(\"Bob\", 500, 200)\n",
    "print(acc2.withdraw(600))  # -100\n",
    "print(acc2.withdraw(200))  # Insufficient funds, overdraft limit reached\n",
    "print(acc2.get_logs())  # 로그 출력\n"
   ]
  },
  {
   "cell_type": "code",
   "execution_count": null,
   "id": "4ed1c2c2",
   "metadata": {},
   "outputs": [],
   "source": []
  }
 ],
 "metadata": {
  "kernelspec": {
   "display_name": "Python 3 (ipykernel)",
   "language": "python",
   "name": "python3"
  },
  "language_info": {
   "codemirror_mode": {
    "name": "ipython",
    "version": 3
   },
   "file_extension": ".py",
   "mimetype": "text/x-python",
   "name": "python",
   "nbconvert_exporter": "python",
   "pygments_lexer": "ipython3",
   "version": "3.11.7"
  }
 },
 "nbformat": 4,
 "nbformat_minor": 5
}
